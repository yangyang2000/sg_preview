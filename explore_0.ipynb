{
 "cells": [
  {
   "cell_type": "code",
   "execution_count": 14,
   "metadata": {
    "ExecuteTime": {
     "end_time": "2020-05-22T20:20:18.990398Z",
     "start_time": "2020-05-22T20:20:14.721951Z"
    }
   },
   "outputs": [],
   "source": [
    "import pandas as pd, urllib, os, re, matplotlib.pyplot as plt, numpy as np, dateparser, codecs,geopandas, shapely, folium, json, ftplib, networkx as nx, community,statsmodels.formula.api  as smf, progressbar\n",
    "from sklearn.preprocessing import StandardScaler \n",
    "from bs4 import BeautifulSoup as BS\n",
    "from itertools import chain\n",
    "%matplotlib inline\n",
    "\n",
    "def int2str_id(ID, l = 5, frontpad = True, pad = '0'):\n",
    "    if type(ID)==str:\n",
    "        return ID\n",
    "    x = str(int(ID))    \n",
    "    if frontpad:\n",
    "        return pad*(l-len(x))+x\n",
    "    else:\n",
    "        return x+pad*(l-len(x))"
   ]
  },
  {
   "cell_type": "code",
   "execution_count": 106,
   "metadata": {
    "ExecuteTime": {
     "end_time": "2020-05-22T23:02:40.230191Z",
     "start_time": "2020-05-22T23:02:40.227203Z"
    }
   },
   "outputs": [
    {
     "data": {
      "text/plain": [
       "['coreplaces',\n",
       " 'core_poi',\n",
       " 'monthly_backfill',\n",
       " 'monthly_places',\n",
       " 'open_census',\n",
       " 'safegraph_open_census_data.tar.gz',\n",
       " 'social_distancing',\n",
       " 'transactions',\n",
       " 'weekly_patterns',\n",
       " 'zz_documentation']"
      ]
     },
     "execution_count": 106,
     "metadata": {},
     "output_type": "execute_result"
    }
   ],
   "source": [
    "os.listdir('D://safegraph/')"
   ]
  },
  {
   "cell_type": "markdown",
   "metadata": {},
   "source": [
    "# Take a look at each dataset"
   ]
  },
  {
   "cell_type": "markdown",
   "metadata": {},
   "source": [
    "## Social Distancing"
   ]
  },
  {
   "cell_type": "code",
   "execution_count": 26,
   "metadata": {
    "ExecuteTime": {
     "end_time": "2020-05-22T20:24:39.798323Z",
     "start_time": "2020-05-22T20:24:39.791311Z"
    }
   },
   "outputs": [],
   "source": [
    "sdpath = 'D://safegraph/social_distancing/'\n",
    "os.listdir(sdpath+'2020/01/01')\n",
    "dts = list(pd.date_range('1/1/2020', '5/15/2020/'))\n",
    "subdirs = ['{}/{}/{}/'.format(c.year, int2str_id(c.month, l=2), int2str_id(c.day, l =2)) for c in dts]\n",
    "sdflist = list(chain(*[[sdpath + d + f for f in os.listdir(sdpath + d)] for d in subdirs]))"
   ]
  },
  {
   "cell_type": "code",
   "execution_count": 27,
   "metadata": {
    "ExecuteTime": {
     "end_time": "2020-05-22T20:24:42.568338Z",
     "start_time": "2020-05-22T20:24:42.565346Z"
    }
   },
   "outputs": [
    {
     "name": "stdout",
     "output_type": "stream",
     "text": [
      "D://safegraph/social_distancing/2020/03/27/2020-03-27-social-distancing.csv.gz\n"
     ]
    }
   ],
   "source": [
    "f = np.random.choice(sdflist)\n",
    "print(f)"
   ]
  },
  {
   "cell_type": "code",
   "execution_count": 28,
   "metadata": {
    "ExecuteTime": {
     "end_time": "2020-05-22T20:24:49.530835Z",
     "start_time": "2020-05-22T20:24:45.543297Z"
    }
   },
   "outputs": [],
   "source": [
    "d = pd.read_csv(f, compression = 'gzip')"
   ]
  },
  {
   "cell_type": "code",
   "execution_count": 30,
   "metadata": {
    "ExecuteTime": {
     "end_time": "2020-05-22T20:24:51.605557Z",
     "start_time": "2020-05-22T20:24:51.588604Z"
    }
   },
   "outputs": [
    {
     "data": {
      "text/html": [
       "<div>\n",
       "<style scoped>\n",
       "    .dataframe tbody tr th:only-of-type {\n",
       "        vertical-align: middle;\n",
       "    }\n",
       "\n",
       "    .dataframe tbody tr th {\n",
       "        vertical-align: top;\n",
       "    }\n",
       "\n",
       "    .dataframe thead th {\n",
       "        text-align: right;\n",
       "    }\n",
       "</style>\n",
       "<table border=\"1\" class=\"dataframe\">\n",
       "  <thead>\n",
       "    <tr style=\"text-align: right;\">\n",
       "      <th></th>\n",
       "      <th>origin_census_block_group</th>\n",
       "      <th>date_range_start</th>\n",
       "      <th>date_range_end</th>\n",
       "      <th>device_count</th>\n",
       "      <th>distance_traveled_from_home</th>\n",
       "      <th>bucketed_distance_traveled</th>\n",
       "      <th>median_dwell_at_bucketed_distance_traveled</th>\n",
       "      <th>completely_home_device_count</th>\n",
       "      <th>median_home_dwell_time</th>\n",
       "      <th>bucketed_home_dwell_time</th>\n",
       "      <th>at_home_by_each_hour</th>\n",
       "      <th>part_time_work_behavior_devices</th>\n",
       "      <th>full_time_work_behavior_devices</th>\n",
       "      <th>destination_cbgs</th>\n",
       "      <th>delivery_behavior_devices</th>\n",
       "      <th>median_non_home_dwell_time</th>\n",
       "      <th>candidate_device_count</th>\n",
       "      <th>bucketed_away_from_home_time</th>\n",
       "      <th>median_percentage_time_home</th>\n",
       "      <th>bucketed_percentage_time_home</th>\n",
       "    </tr>\n",
       "  </thead>\n",
       "  <tbody>\n",
       "    <tr>\n",
       "      <th>0</th>\n",
       "      <td>10330210004</td>\n",
       "      <td>2020-03-27T00:00:00-05:00</td>\n",
       "      <td>2020-03-28T00:00:00-05:00</td>\n",
       "      <td>69</td>\n",
       "      <td>9121.0</td>\n",
       "      <td>{\"16001-50000\":8,\"0\":21,\"&gt;50000\":9,\"2001-8000\"...</td>\n",
       "      <td>{\"16001-50000\":22,\"&gt;50000\":86,\"&lt;1000\":32,\"2001...</td>\n",
       "      <td>19</td>\n",
       "      <td>840</td>\n",
       "      <td>{\"721-1080\":9,\"361-720\":4,\"61-360\":7,\"&lt;60\":19,...</td>\n",
       "      <td>[38,42,44,43,40,41,39,37,35,38,36,36,36,35,34,...</td>\n",
       "      <td>4</td>\n",
       "      <td>1</td>\n",
       "      <td>{\"281419503001\":2,\"281419502003\":2,\"0103302030...</td>\n",
       "      <td>1</td>\n",
       "      <td>63</td>\n",
       "      <td>163</td>\n",
       "      <td>{\"21-45\":3,\"481-540\":2,\"721-840\":2,\"1201-1320\"...</td>\n",
       "      <td>77</td>\n",
       "      <td>{\"26-50\":1,\"51-75\":10,\"0-25\":19,\"&gt;100\":5,\"76-1...</td>\n",
       "    </tr>\n",
       "    <tr>\n",
       "      <th>1</th>\n",
       "      <td>10730049022</td>\n",
       "      <td>2020-03-27T00:00:00-05:00</td>\n",
       "      <td>2020-03-28T00:00:00-05:00</td>\n",
       "      <td>151</td>\n",
       "      <td>8264.0</td>\n",
       "      <td>{\"16001-50000\":15,\"0\":31,\"&gt;50000\":34,\"2001-800...</td>\n",
       "      <td>{\"16001-50000\":256,\"&gt;50000\":169,\"&lt;1000\":102,\"2...</td>\n",
       "      <td>33</td>\n",
       "      <td>0</td>\n",
       "      <td>{\"721-1080\":4,\"361-720\":14,\"61-360\":6,\"&lt;60\":95...</td>\n",
       "      <td>[31,29,32,29,34,33,34,31,30,29,22,26,28,25,27,...</td>\n",
       "      <td>9</td>\n",
       "      <td>1</td>\n",
       "      <td>{\"011150405022\":1,\"011170302131\":1,\"0111703021...</td>\n",
       "      <td>1</td>\n",
       "      <td>197</td>\n",
       "      <td>668</td>\n",
       "      <td>{\"21-45\":1,\"481-540\":4,\"541-600\":1,\"46-60\":7,\"...</td>\n",
       "      <td>0</td>\n",
       "      <td>{\"26-50\":2,\"51-75\":1,\"0-25\":94,\"&gt;100\":1,\"76-10...</td>\n",
       "    </tr>\n",
       "    <tr>\n",
       "      <th>2</th>\n",
       "      <td>11210118001</td>\n",
       "      <td>2020-03-27T00:00:00-05:00</td>\n",
       "      <td>2020-03-28T00:00:00-05:00</td>\n",
       "      <td>55</td>\n",
       "      <td>3822.0</td>\n",
       "      <td>{\"16001-50000\":7,\"0\":14,\"&gt;50000\":7,\"2001-8000\"...</td>\n",
       "      <td>{\"16001-50000\":25,\"&gt;50000\":37,\"&lt;1000\":416,\"200...</td>\n",
       "      <td>14</td>\n",
       "      <td>619</td>\n",
       "      <td>{\"721-1080\":11,\"361-720\":6,\"61-360\":9,\"&lt;60\":16...</td>\n",
       "      <td>[24,23,27,28,29,27,24,26,24,26,23,18,23,26,20,...</td>\n",
       "      <td>2</td>\n",
       "      <td>1</td>\n",
       "      <td>{\"011150405022\":2,\"011210109002\":2,\"0108104130...</td>\n",
       "      <td>4</td>\n",
       "      <td>49</td>\n",
       "      <td>221</td>\n",
       "      <td>{\"21-45\":5,\"541-600\":3,\"46-60\":1,\"721-840\":6,\"...</td>\n",
       "      <td>63</td>\n",
       "      <td>{\"26-50\":6,\"51-75\":7,\"0-25\":18,\"&gt;100\":1,\"76-10...</td>\n",
       "    </tr>\n",
       "    <tr>\n",
       "      <th>3</th>\n",
       "      <td>11250106021</td>\n",
       "      <td>2020-03-27T00:00:00-05:00</td>\n",
       "      <td>2020-03-28T00:00:00-05:00</td>\n",
       "      <td>352</td>\n",
       "      <td>16477.0</td>\n",
       "      <td>{\"16001-50000\":99,\"0\":80,\"&gt;50000\":44,\"2001-800...</td>\n",
       "      <td>{\"16001-50000\":38,\"&gt;50000\":76,\"&lt;1000\":85,\"2001...</td>\n",
       "      <td>82</td>\n",
       "      <td>827</td>\n",
       "      <td>{\"721-1080\":55,\"361-720\":41,\"61-360\":20,\"&lt;60\":...</td>\n",
       "      <td>[206,205,212,215,211,207,195,188,178,168,160,1...</td>\n",
       "      <td>27</td>\n",
       "      <td>16</td>\n",
       "      <td>{\"010730102002\":10,\"011150405022\":1,\"011250106...</td>\n",
       "      <td>17</td>\n",
       "      <td>122</td>\n",
       "      <td>747</td>\n",
       "      <td>{\"21-45\":28,\"481-540\":5,\"541-600\":8,\"46-60\":12...</td>\n",
       "      <td>79</td>\n",
       "      <td>{\"26-50\":22,\"51-75\":44,\"0-25\":95,\"&gt;100\":8,\"76-...</td>\n",
       "    </tr>\n",
       "    <tr>\n",
       "      <th>4</th>\n",
       "      <td>21880002003</td>\n",
       "      <td>2020-03-27T00:00:00-08:00</td>\n",
       "      <td>2020-03-28T00:00:00-08:00</td>\n",
       "      <td>21</td>\n",
       "      <td>420.0</td>\n",
       "      <td>{\"1-1000\":9,\"&gt;50000\":3,\"0\":5}</td>\n",
       "      <td>{\"&gt;50000\":464,\"&lt;1000\":324}</td>\n",
       "      <td>4</td>\n",
       "      <td>200</td>\n",
       "      <td>{\"721-1080\":3,\"361-720\":2,\"61-360\":2,\"&lt;60\":12,...</td>\n",
       "      <td>[4,3,3,4,4,2,3,3,3,3,3,3,1,6,3,3,1,5,5,2,3,1,3,3]</td>\n",
       "      <td>1</td>\n",
       "      <td>1</td>\n",
       "      <td>{\"021880002003\":11,\"021880002001\":2,\"021880002...</td>\n",
       "      <td>1</td>\n",
       "      <td>265</td>\n",
       "      <td>35</td>\n",
       "      <td>{\"541-600\":1,\"721-840\":1,\"301-360\":2,\"&lt;20\":6,\"...</td>\n",
       "      <td>49</td>\n",
       "      <td>{\"0-25\":8,\"76-100\":6,\"51-75\":1,\"26-50\":7}</td>\n",
       "    </tr>\n",
       "  </tbody>\n",
       "</table>\n",
       "</div>"
      ],
      "text/plain": [
       "   origin_census_block_group           date_range_start  \\\n",
       "0                10330210004  2020-03-27T00:00:00-05:00   \n",
       "1                10730049022  2020-03-27T00:00:00-05:00   \n",
       "2                11210118001  2020-03-27T00:00:00-05:00   \n",
       "3                11250106021  2020-03-27T00:00:00-05:00   \n",
       "4                21880002003  2020-03-27T00:00:00-08:00   \n",
       "\n",
       "              date_range_end  device_count  distance_traveled_from_home  \\\n",
       "0  2020-03-28T00:00:00-05:00            69                       9121.0   \n",
       "1  2020-03-28T00:00:00-05:00           151                       8264.0   \n",
       "2  2020-03-28T00:00:00-05:00            55                       3822.0   \n",
       "3  2020-03-28T00:00:00-05:00           352                      16477.0   \n",
       "4  2020-03-28T00:00:00-08:00            21                        420.0   \n",
       "\n",
       "                          bucketed_distance_traveled  \\\n",
       "0  {\"16001-50000\":8,\"0\":21,\">50000\":9,\"2001-8000\"...   \n",
       "1  {\"16001-50000\":15,\"0\":31,\">50000\":34,\"2001-800...   \n",
       "2  {\"16001-50000\":7,\"0\":14,\">50000\":7,\"2001-8000\"...   \n",
       "3  {\"16001-50000\":99,\"0\":80,\">50000\":44,\"2001-800...   \n",
       "4                      {\"1-1000\":9,\">50000\":3,\"0\":5}   \n",
       "\n",
       "          median_dwell_at_bucketed_distance_traveled  \\\n",
       "0  {\"16001-50000\":22,\">50000\":86,\"<1000\":32,\"2001...   \n",
       "1  {\"16001-50000\":256,\">50000\":169,\"<1000\":102,\"2...   \n",
       "2  {\"16001-50000\":25,\">50000\":37,\"<1000\":416,\"200...   \n",
       "3  {\"16001-50000\":38,\">50000\":76,\"<1000\":85,\"2001...   \n",
       "4                         {\">50000\":464,\"<1000\":324}   \n",
       "\n",
       "   completely_home_device_count  median_home_dwell_time  \\\n",
       "0                            19                     840   \n",
       "1                            33                       0   \n",
       "2                            14                     619   \n",
       "3                            82                     827   \n",
       "4                             4                     200   \n",
       "\n",
       "                            bucketed_home_dwell_time  \\\n",
       "0  {\"721-1080\":9,\"361-720\":4,\"61-360\":7,\"<60\":19,...   \n",
       "1  {\"721-1080\":4,\"361-720\":14,\"61-360\":6,\"<60\":95...   \n",
       "2  {\"721-1080\":11,\"361-720\":6,\"61-360\":9,\"<60\":16...   \n",
       "3  {\"721-1080\":55,\"361-720\":41,\"61-360\":20,\"<60\":...   \n",
       "4  {\"721-1080\":3,\"361-720\":2,\"61-360\":2,\"<60\":12,...   \n",
       "\n",
       "                                at_home_by_each_hour  \\\n",
       "0  [38,42,44,43,40,41,39,37,35,38,36,36,36,35,34,...   \n",
       "1  [31,29,32,29,34,33,34,31,30,29,22,26,28,25,27,...   \n",
       "2  [24,23,27,28,29,27,24,26,24,26,23,18,23,26,20,...   \n",
       "3  [206,205,212,215,211,207,195,188,178,168,160,1...   \n",
       "4  [4,3,3,4,4,2,3,3,3,3,3,3,1,6,3,3,1,5,5,2,3,1,3,3]   \n",
       "\n",
       "   part_time_work_behavior_devices  full_time_work_behavior_devices  \\\n",
       "0                                4                                1   \n",
       "1                                9                                1   \n",
       "2                                2                                1   \n",
       "3                               27                               16   \n",
       "4                                1                                1   \n",
       "\n",
       "                                    destination_cbgs  \\\n",
       "0  {\"281419503001\":2,\"281419502003\":2,\"0103302030...   \n",
       "1  {\"011150405022\":1,\"011170302131\":1,\"0111703021...   \n",
       "2  {\"011150405022\":2,\"011210109002\":2,\"0108104130...   \n",
       "3  {\"010730102002\":10,\"011150405022\":1,\"011250106...   \n",
       "4  {\"021880002003\":11,\"021880002001\":2,\"021880002...   \n",
       "\n",
       "   delivery_behavior_devices  median_non_home_dwell_time  \\\n",
       "0                          1                          63   \n",
       "1                          1                         197   \n",
       "2                          4                          49   \n",
       "3                         17                         122   \n",
       "4                          1                         265   \n",
       "\n",
       "   candidate_device_count                       bucketed_away_from_home_time  \\\n",
       "0                     163  {\"21-45\":3,\"481-540\":2,\"721-840\":2,\"1201-1320\"...   \n",
       "1                     668  {\"21-45\":1,\"481-540\":4,\"541-600\":1,\"46-60\":7,\"...   \n",
       "2                     221  {\"21-45\":5,\"541-600\":3,\"46-60\":1,\"721-840\":6,\"...   \n",
       "3                     747  {\"21-45\":28,\"481-540\":5,\"541-600\":8,\"46-60\":12...   \n",
       "4                      35  {\"541-600\":1,\"721-840\":1,\"301-360\":2,\"<20\":6,\"...   \n",
       "\n",
       "   median_percentage_time_home  \\\n",
       "0                           77   \n",
       "1                            0   \n",
       "2                           63   \n",
       "3                           79   \n",
       "4                           49   \n",
       "\n",
       "                       bucketed_percentage_time_home  \n",
       "0  {\"26-50\":1,\"51-75\":10,\"0-25\":19,\">100\":5,\"76-1...  \n",
       "1  {\"26-50\":2,\"51-75\":1,\"0-25\":94,\">100\":1,\"76-10...  \n",
       "2  {\"26-50\":6,\"51-75\":7,\"0-25\":18,\">100\":1,\"76-10...  \n",
       "3  {\"26-50\":22,\"51-75\":44,\"0-25\":95,\">100\":8,\"76-...  \n",
       "4          {\"0-25\":8,\"76-100\":6,\"51-75\":1,\"26-50\":7}  "
      ]
     },
     "execution_count": 30,
     "metadata": {},
     "output_type": "execute_result"
    }
   ],
   "source": [
    "d.head()"
   ]
  },
  {
   "cell_type": "markdown",
   "metadata": {},
   "source": [
    "## Weekly Store Patterns"
   ]
  },
  {
   "cell_type": "code",
   "execution_count": 38,
   "metadata": {
    "ExecuteTime": {
     "end_time": "2020-05-22T20:29:04.897381Z",
     "start_time": "2020-05-22T20:29:04.893392Z"
    }
   },
   "outputs": [
    {
     "data": {
      "text/plain": [
       "['home-summary-file', 'main-file', 'normalization-stats', 'release-metadata']"
      ]
     },
     "execution_count": 38,
     "metadata": {},
     "output_type": "execute_result"
    }
   ],
   "source": [
    "wkpatpath = 'D://safegraph/weekly_patterns/'\n",
    "os.listdir(wkpatpath)"
   ]
  },
  {
   "cell_type": "code",
   "execution_count": 42,
   "metadata": {
    "ExecuteTime": {
     "end_time": "2020-05-22T20:29:38.065093Z",
     "start_time": "2020-05-22T20:29:38.062102Z"
    },
    "scrolled": true
   },
   "outputs": [],
   "source": [
    "wk_main_flist = os.listdir(wkpatpath + 'main-file/')\n",
    "f = np.random.choice(wk_main_flist)"
   ]
  },
  {
   "cell_type": "code",
   "execution_count": 44,
   "metadata": {
    "ExecuteTime": {
     "end_time": "2020-05-22T20:31:10.476293Z",
     "start_time": "2020-05-22T20:30:07.495977Z"
    }
   },
   "outputs": [
    {
     "data": {
      "text/html": [
       "<div>\n",
       "<style scoped>\n",
       "    .dataframe tbody tr th:only-of-type {\n",
       "        vertical-align: middle;\n",
       "    }\n",
       "\n",
       "    .dataframe tbody tr th {\n",
       "        vertical-align: top;\n",
       "    }\n",
       "\n",
       "    .dataframe thead th {\n",
       "        text-align: right;\n",
       "    }\n",
       "</style>\n",
       "<table border=\"1\" class=\"dataframe\">\n",
       "  <thead>\n",
       "    <tr style=\"text-align: right;\">\n",
       "      <th></th>\n",
       "      <th>safegraph_place_id</th>\n",
       "      <th>location_name</th>\n",
       "      <th>street_address</th>\n",
       "      <th>city</th>\n",
       "      <th>region</th>\n",
       "      <th>postal_code</th>\n",
       "      <th>iso_country_code</th>\n",
       "      <th>safegraph_brand_ids</th>\n",
       "      <th>brands</th>\n",
       "      <th>date_range_start</th>\n",
       "      <th>...</th>\n",
       "      <th>poi_cbg</th>\n",
       "      <th>visitor_home_cbgs</th>\n",
       "      <th>visitor_daytime_cbgs</th>\n",
       "      <th>visitor_country_of_origin</th>\n",
       "      <th>distance_from_home</th>\n",
       "      <th>median_dwell</th>\n",
       "      <th>bucketed_dwell_times</th>\n",
       "      <th>related_same_day_brand</th>\n",
       "      <th>related_same_week_brand</th>\n",
       "      <th>device_type</th>\n",
       "    </tr>\n",
       "  </thead>\n",
       "  <tbody>\n",
       "    <tr>\n",
       "      <th>0</th>\n",
       "      <td>sg:0013bd02b3564a9187a52f8e2799233e</td>\n",
       "      <td>Small Business Transactions</td>\n",
       "      <td>1007 Mill Crescent Pl Ste 274</td>\n",
       "      <td>Arlington</td>\n",
       "      <td>TX</td>\n",
       "      <td>76006</td>\n",
       "      <td>US</td>\n",
       "      <td>NaN</td>\n",
       "      <td>NaN</td>\n",
       "      <td>2019-01-07T00:00:00-06:00</td>\n",
       "      <td>...</td>\n",
       "      <td>4.843911e+11</td>\n",
       "      <td>{\"484391131041\":11,\"484391141042\":4,\"484391131...</td>\n",
       "      <td>{\"484391131041\":9,\"484391135113\":4,\"4843911155...</td>\n",
       "      <td>{\"US\":33}</td>\n",
       "      <td>5405.0</td>\n",
       "      <td>74.0</td>\n",
       "      <td>{\"&lt;5\":2,\"5-20\":15,\"21-60\":7,\"61-240\":13,\"&gt;240\"...</td>\n",
       "      <td>{\"Tom Thumb Food &amp; Pharmacy\":17,\"QuikTrip\":9,\"...</td>\n",
       "      <td>{\"Walmart\":14,\"Jack in the Box\":14,\"Valero Ene...</td>\n",
       "      <td>{\"android\":26,\"ios\":7}</td>\n",
       "    </tr>\n",
       "    <tr>\n",
       "      <th>1</th>\n",
       "      <td>sg:001955fa1c994b4c8c877316a66dd986</td>\n",
       "      <td>McDonald's</td>\n",
       "      <td>1134 280 By Pass</td>\n",
       "      <td>Phenix City</td>\n",
       "      <td>AL</td>\n",
       "      <td>36867</td>\n",
       "      <td>US</td>\n",
       "      <td>SG_BRAND_5179b21fc1d50950b99b4eecaa48c614</td>\n",
       "      <td>McDonald's</td>\n",
       "      <td>2019-01-07T00:00:00-06:00</td>\n",
       "      <td>...</td>\n",
       "      <td>1.113031e+10</td>\n",
       "      <td>{\"011130306003\":15,\"011130309022\":10,\"01113030...</td>\n",
       "      <td>{\"011130306003\":13,\"011130309021\":13,\"01113030...</td>\n",
       "      <td>{\"US\":168}</td>\n",
       "      <td>11767.0</td>\n",
       "      <td>10.0</td>\n",
       "      <td>{\"&lt;5\":7,\"5-20\":146,\"21-60\":29,\"61-240\":6,\"&gt;240...</td>\n",
       "      <td>{\"Dollar General\":14,\"Piggly Wiggly\":11,\"Shell...</td>\n",
       "      <td>{\"Walmart\":27,\"Marathon\":23,\"Dollar General\":2...</td>\n",
       "      <td>{\"android\":88,\"ios\":78}</td>\n",
       "    </tr>\n",
       "    <tr>\n",
       "      <th>2</th>\n",
       "      <td>sg:001e39c6b18645a5950b13a278b242c3</td>\n",
       "      <td>Peking House</td>\n",
       "      <td>9617 Liberty Ave</td>\n",
       "      <td>Ozone Park</td>\n",
       "      <td>NY</td>\n",
       "      <td>11417</td>\n",
       "      <td>US</td>\n",
       "      <td>NaN</td>\n",
       "      <td>NaN</td>\n",
       "      <td>2019-01-07T00:00:00-05:00</td>\n",
       "      <td>...</td>\n",
       "      <td>3.608100e+11</td>\n",
       "      <td>{\"360810040021\":7,\"360810086001\":5,\"3608100200...</td>\n",
       "      <td>{\"360810040021\":8,\"360610048006\":5,\"3600502270...</td>\n",
       "      <td>{\"US\":91}</td>\n",
       "      <td>2477.0</td>\n",
       "      <td>21.0</td>\n",
       "      <td>{\"&lt;5\":2,\"5-20\":57,\"21-60\":22,\"61-240\":23,\"&gt;240...</td>\n",
       "      <td>{\"Subway\":9,\"Stop &amp; Shop\":7,\"P.C. Richard &amp; So...</td>\n",
       "      <td>{\"McDonald's\":14,\"Dunkin'\":13,\"Popeyes Louisia...</td>\n",
       "      <td>{\"android\":53,\"ios\":40}</td>\n",
       "    </tr>\n",
       "    <tr>\n",
       "      <th>3</th>\n",
       "      <td>sg:0023804ee36c4056886ef54e5a0cb773</td>\n",
       "      <td>American Express Financial Advisors</td>\n",
       "      <td>4210 Metro Pkwy Ste 230</td>\n",
       "      <td>Fort Myers</td>\n",
       "      <td>FL</td>\n",
       "      <td>33916</td>\n",
       "      <td>US</td>\n",
       "      <td>NaN</td>\n",
       "      <td>NaN</td>\n",
       "      <td>2019-01-07T00:00:00-05:00</td>\n",
       "      <td>...</td>\n",
       "      <td>1.207100e+11</td>\n",
       "      <td>{\"120710102042\":4,\"120710401273\":4,\"1207104020...</td>\n",
       "      <td>{\"120710012011\":5,\"120710015024\":4,\"1207100120...</td>\n",
       "      <td>{\"US\":20}</td>\n",
       "      <td>10517.0</td>\n",
       "      <td>165.0</td>\n",
       "      <td>{\"&lt;5\":1,\"5-20\":12,\"21-60\":5,\"61-240\":13,\"&gt;240\"...</td>\n",
       "      <td>{\"Subway\":99,\"Edward Jones\":12,\"Citi Trends\":1...</td>\n",
       "      <td>{\"7-Eleven\":22,\"Sam's Club\":22,\"Subway\":20,\"Ra...</td>\n",
       "      <td>{\"android\":10,\"ios\":12}</td>\n",
       "    </tr>\n",
       "    <tr>\n",
       "      <th>4</th>\n",
       "      <td>sg:00267c6356804259b6c92ba31c842f5a</td>\n",
       "      <td>Akimel Smoke Shop 2</td>\n",
       "      <td>190 W Pima St</td>\n",
       "      <td>Sacaton</td>\n",
       "      <td>AZ</td>\n",
       "      <td>85147</td>\n",
       "      <td>US</td>\n",
       "      <td>NaN</td>\n",
       "      <td>NaN</td>\n",
       "      <td>2019-01-07T00:00:00-07:00</td>\n",
       "      <td>...</td>\n",
       "      <td>4.021941e+10</td>\n",
       "      <td>{\"040219412004\":4,\"040219413001\":4,\"0401311661...</td>\n",
       "      <td>{\"040219412004\":8,\"040219413001\":4,\"0402194130...</td>\n",
       "      <td>{\"US\":25}</td>\n",
       "      <td>15018.0</td>\n",
       "      <td>22.5</td>\n",
       "      <td>{\"&lt;5\":0,\"5-20\":19,\"21-60\":10,\"61-240\":7,\"&gt;240\":4}</td>\n",
       "      <td>{\"QuikTrip\":20,\"Simon mall\":20,\"76\":17,\"Circle...</td>\n",
       "      <td>{\"Fry's Food &amp; Drug Stores\":24,\"Subway\":17,\"76...</td>\n",
       "      <td>{\"android\":19,\"ios\":4}</td>\n",
       "    </tr>\n",
       "  </tbody>\n",
       "</table>\n",
       "<p>5 rows × 25 columns</p>\n",
       "</div>"
      ],
      "text/plain": [
       "                    safegraph_place_id                        location_name  \\\n",
       "0  sg:0013bd02b3564a9187a52f8e2799233e          Small Business Transactions   \n",
       "1  sg:001955fa1c994b4c8c877316a66dd986                           McDonald's   \n",
       "2  sg:001e39c6b18645a5950b13a278b242c3                         Peking House   \n",
       "3  sg:0023804ee36c4056886ef54e5a0cb773  American Express Financial Advisors   \n",
       "4  sg:00267c6356804259b6c92ba31c842f5a                  Akimel Smoke Shop 2   \n",
       "\n",
       "                  street_address         city region  postal_code  \\\n",
       "0  1007 Mill Crescent Pl Ste 274    Arlington     TX        76006   \n",
       "1               1134 280 By Pass  Phenix City     AL        36867   \n",
       "2               9617 Liberty Ave   Ozone Park     NY        11417   \n",
       "3        4210 Metro Pkwy Ste 230   Fort Myers     FL        33916   \n",
       "4                  190 W Pima St      Sacaton     AZ        85147   \n",
       "\n",
       "  iso_country_code                        safegraph_brand_ids      brands  \\\n",
       "0               US                                        NaN         NaN   \n",
       "1               US  SG_BRAND_5179b21fc1d50950b99b4eecaa48c614  McDonald's   \n",
       "2               US                                        NaN         NaN   \n",
       "3               US                                        NaN         NaN   \n",
       "4               US                                        NaN         NaN   \n",
       "\n",
       "            date_range_start  ...       poi_cbg  \\\n",
       "0  2019-01-07T00:00:00-06:00  ...  4.843911e+11   \n",
       "1  2019-01-07T00:00:00-06:00  ...  1.113031e+10   \n",
       "2  2019-01-07T00:00:00-05:00  ...  3.608100e+11   \n",
       "3  2019-01-07T00:00:00-05:00  ...  1.207100e+11   \n",
       "4  2019-01-07T00:00:00-07:00  ...  4.021941e+10   \n",
       "\n",
       "                                   visitor_home_cbgs  \\\n",
       "0  {\"484391131041\":11,\"484391141042\":4,\"484391131...   \n",
       "1  {\"011130306003\":15,\"011130309022\":10,\"01113030...   \n",
       "2  {\"360810040021\":7,\"360810086001\":5,\"3608100200...   \n",
       "3  {\"120710102042\":4,\"120710401273\":4,\"1207104020...   \n",
       "4  {\"040219412004\":4,\"040219413001\":4,\"0401311661...   \n",
       "\n",
       "                                visitor_daytime_cbgs  \\\n",
       "0  {\"484391131041\":9,\"484391135113\":4,\"4843911155...   \n",
       "1  {\"011130306003\":13,\"011130309021\":13,\"01113030...   \n",
       "2  {\"360810040021\":8,\"360610048006\":5,\"3600502270...   \n",
       "3  {\"120710012011\":5,\"120710015024\":4,\"1207100120...   \n",
       "4  {\"040219412004\":8,\"040219413001\":4,\"0402194130...   \n",
       "\n",
       "  visitor_country_of_origin distance_from_home  median_dwell  \\\n",
       "0                 {\"US\":33}             5405.0          74.0   \n",
       "1                {\"US\":168}            11767.0          10.0   \n",
       "2                 {\"US\":91}             2477.0          21.0   \n",
       "3                 {\"US\":20}            10517.0         165.0   \n",
       "4                 {\"US\":25}            15018.0          22.5   \n",
       "\n",
       "                                bucketed_dwell_times  \\\n",
       "0  {\"<5\":2,\"5-20\":15,\"21-60\":7,\"61-240\":13,\">240\"...   \n",
       "1  {\"<5\":7,\"5-20\":146,\"21-60\":29,\"61-240\":6,\">240...   \n",
       "2  {\"<5\":2,\"5-20\":57,\"21-60\":22,\"61-240\":23,\">240...   \n",
       "3  {\"<5\":1,\"5-20\":12,\"21-60\":5,\"61-240\":13,\">240\"...   \n",
       "4  {\"<5\":0,\"5-20\":19,\"21-60\":10,\"61-240\":7,\">240\":4}   \n",
       "\n",
       "                              related_same_day_brand  \\\n",
       "0  {\"Tom Thumb Food & Pharmacy\":17,\"QuikTrip\":9,\"...   \n",
       "1  {\"Dollar General\":14,\"Piggly Wiggly\":11,\"Shell...   \n",
       "2  {\"Subway\":9,\"Stop & Shop\":7,\"P.C. Richard & So...   \n",
       "3  {\"Subway\":99,\"Edward Jones\":12,\"Citi Trends\":1...   \n",
       "4  {\"QuikTrip\":20,\"Simon mall\":20,\"76\":17,\"Circle...   \n",
       "\n",
       "                             related_same_week_brand              device_type  \n",
       "0  {\"Walmart\":14,\"Jack in the Box\":14,\"Valero Ene...   {\"android\":26,\"ios\":7}  \n",
       "1  {\"Walmart\":27,\"Marathon\":23,\"Dollar General\":2...  {\"android\":88,\"ios\":78}  \n",
       "2  {\"McDonald's\":14,\"Dunkin'\":13,\"Popeyes Louisia...  {\"android\":53,\"ios\":40}  \n",
       "3  {\"7-Eleven\":22,\"Sam's Club\":22,\"Subway\":20,\"Ra...  {\"android\":10,\"ios\":12}  \n",
       "4  {\"Fry's Food & Drug Stores\":24,\"Subway\":17,\"76...   {\"android\":19,\"ios\":4}  \n",
       "\n",
       "[5 rows x 25 columns]"
      ]
     },
     "execution_count": 44,
     "metadata": {},
     "output_type": "execute_result"
    }
   ],
   "source": [
    "d = pd.read_csv(wkpatpath+'main-file/'+f, compression = 'gzip')\n",
    "d.head()"
   ]
  },
  {
   "cell_type": "code",
   "execution_count": 45,
   "metadata": {
    "ExecuteTime": {
     "end_time": "2020-05-22T20:31:30.505877Z",
     "start_time": "2020-05-22T20:31:30.501888Z"
    }
   },
   "outputs": [
    {
     "data": {
      "text/plain": [
       "(3870885, 25)"
      ]
     },
     "execution_count": 45,
     "metadata": {},
     "output_type": "execute_result"
    }
   ],
   "source": [
    "d.shape"
   ]
  },
  {
   "cell_type": "code",
   "execution_count": 46,
   "metadata": {
    "ExecuteTime": {
     "end_time": "2020-05-22T20:32:03.777593Z",
     "start_time": "2020-05-22T20:32:03.773603Z"
    }
   },
   "outputs": [
    {
     "data": {
      "text/plain": [
       "array(['safegraph_place_id', 'location_name', 'street_address', 'city',\n",
       "       'region', 'postal_code', 'iso_country_code', 'safegraph_brand_ids',\n",
       "       'brands', 'date_range_start', 'date_range_end', 'raw_visit_counts',\n",
       "       'raw_visitor_counts', 'visits_by_day', 'visits_by_each_hour',\n",
       "       'poi_cbg', 'visitor_home_cbgs', 'visitor_daytime_cbgs',\n",
       "       'visitor_country_of_origin', 'distance_from_home', 'median_dwell',\n",
       "       'bucketed_dwell_times', 'related_same_day_brand',\n",
       "       'related_same_week_brand', 'device_type'], dtype=object)"
      ]
     },
     "execution_count": 46,
     "metadata": {},
     "output_type": "execute_result"
    }
   ],
   "source": [
    "d.columns.values"
   ]
  },
  {
   "cell_type": "code",
   "execution_count": 47,
   "metadata": {
    "ExecuteTime": {
     "end_time": "2020-05-22T20:32:20.709684Z",
     "start_time": "2020-05-22T20:32:20.043204Z"
    }
   },
   "outputs": [
    {
     "data": {
      "text/html": [
       "<div>\n",
       "<style scoped>\n",
       "    .dataframe tbody tr th:only-of-type {\n",
       "        vertical-align: middle;\n",
       "    }\n",
       "\n",
       "    .dataframe tbody tr th {\n",
       "        vertical-align: top;\n",
       "    }\n",
       "\n",
       "    .dataframe thead th {\n",
       "        text-align: right;\n",
       "    }\n",
       "</style>\n",
       "<table border=\"1\" class=\"dataframe\">\n",
       "  <thead>\n",
       "    <tr style=\"text-align: right;\">\n",
       "      <th></th>\n",
       "      <th>postal_code</th>\n",
       "      <th>raw_visit_counts</th>\n",
       "      <th>raw_visitor_counts</th>\n",
       "      <th>poi_cbg</th>\n",
       "      <th>distance_from_home</th>\n",
       "      <th>median_dwell</th>\n",
       "    </tr>\n",
       "  </thead>\n",
       "  <tbody>\n",
       "    <tr>\n",
       "      <th>count</th>\n",
       "      <td>3.870885e+06</td>\n",
       "      <td>3.870885e+06</td>\n",
       "      <td>3.870885e+06</td>\n",
       "      <td>3.870861e+06</td>\n",
       "      <td>2.905702e+06</td>\n",
       "      <td>3.870885e+06</td>\n",
       "    </tr>\n",
       "    <tr>\n",
       "      <th>mean</th>\n",
       "      <td>5.233478e+04</td>\n",
       "      <td>5.857590e+01</td>\n",
       "      <td>3.787584e+01</td>\n",
       "      <td>2.758613e+11</td>\n",
       "      <td>1.669810e+04</td>\n",
       "      <td>7.734219e+01</td>\n",
       "    </tr>\n",
       "    <tr>\n",
       "      <th>std</th>\n",
       "      <td>2.949101e+04</td>\n",
       "      <td>2.658053e+02</td>\n",
       "      <td>1.484261e+02</td>\n",
       "      <td>1.625946e+11</td>\n",
       "      <td>1.097512e+05</td>\n",
       "      <td>1.266949e+02</td>\n",
       "    </tr>\n",
       "    <tr>\n",
       "      <th>min</th>\n",
       "      <td>0.000000e+00</td>\n",
       "      <td>1.000000e+00</td>\n",
       "      <td>1.000000e+00</td>\n",
       "      <td>1.001020e+10</td>\n",
       "      <td>1.000000e+00</td>\n",
       "      <td>0.000000e+00</td>\n",
       "    </tr>\n",
       "    <tr>\n",
       "      <th>25%</th>\n",
       "      <td>2.906300e+04</td>\n",
       "      <td>7.000000e+00</td>\n",
       "      <td>5.000000e+00</td>\n",
       "      <td>1.209502e+11</td>\n",
       "      <td>4.260000e+03</td>\n",
       "      <td>1.700000e+01</td>\n",
       "    </tr>\n",
       "    <tr>\n",
       "      <th>50%</th>\n",
       "      <td>4.906800e+04</td>\n",
       "      <td>2.200000e+01</td>\n",
       "      <td>1.400000e+01</td>\n",
       "      <td>2.705303e+11</td>\n",
       "      <td>7.446000e+03</td>\n",
       "      <td>3.900000e+01</td>\n",
       "    </tr>\n",
       "    <tr>\n",
       "      <th>75%</th>\n",
       "      <td>7.861300e+04</td>\n",
       "      <td>5.500000e+01</td>\n",
       "      <td>3.600000e+01</td>\n",
       "      <td>4.200595e+11</td>\n",
       "      <td>1.235000e+04</td>\n",
       "      <td>8.050000e+01</td>\n",
       "    </tr>\n",
       "    <tr>\n",
       "      <th>max</th>\n",
       "      <td>9.999900e+04</td>\n",
       "      <td>1.899420e+05</td>\n",
       "      <td>6.062400e+04</td>\n",
       "      <td>7.801097e+11</td>\n",
       "      <td>9.619368e+06</td>\n",
       "      <td>1.440000e+03</td>\n",
       "    </tr>\n",
       "  </tbody>\n",
       "</table>\n",
       "</div>"
      ],
      "text/plain": [
       "        postal_code  raw_visit_counts  raw_visitor_counts       poi_cbg  \\\n",
       "count  3.870885e+06      3.870885e+06        3.870885e+06  3.870861e+06   \n",
       "mean   5.233478e+04      5.857590e+01        3.787584e+01  2.758613e+11   \n",
       "std    2.949101e+04      2.658053e+02        1.484261e+02  1.625946e+11   \n",
       "min    0.000000e+00      1.000000e+00        1.000000e+00  1.001020e+10   \n",
       "25%    2.906300e+04      7.000000e+00        5.000000e+00  1.209502e+11   \n",
       "50%    4.906800e+04      2.200000e+01        1.400000e+01  2.705303e+11   \n",
       "75%    7.861300e+04      5.500000e+01        3.600000e+01  4.200595e+11   \n",
       "max    9.999900e+04      1.899420e+05        6.062400e+04  7.801097e+11   \n",
       "\n",
       "       distance_from_home  median_dwell  \n",
       "count        2.905702e+06  3.870885e+06  \n",
       "mean         1.669810e+04  7.734219e+01  \n",
       "std          1.097512e+05  1.266949e+02  \n",
       "min          1.000000e+00  0.000000e+00  \n",
       "25%          4.260000e+03  1.700000e+01  \n",
       "50%          7.446000e+03  3.900000e+01  \n",
       "75%          1.235000e+04  8.050000e+01  \n",
       "max          9.619368e+06  1.440000e+03  "
      ]
     },
     "execution_count": 47,
     "metadata": {},
     "output_type": "execute_result"
    }
   ],
   "source": [
    "d.describe()"
   ]
  },
  {
   "cell_type": "code",
   "execution_count": 51,
   "metadata": {
    "ExecuteTime": {
     "end_time": "2020-05-22T20:34:09.545260Z",
     "start_time": "2020-05-22T20:34:09.540240Z"
    }
   },
   "outputs": [
    {
     "data": {
      "text/plain": [
       "0     59\n",
       "1    192\n",
       "2    125\n",
       "3     54\n",
       "4     40\n",
       "Name: visits_by_day, dtype: int64"
      ]
     },
     "execution_count": 51,
     "metadata": {},
     "output_type": "execute_result"
    }
   ],
   "source": [
    "d.visits_by_day.head().map(eval).map(sum)"
   ]
  },
  {
   "cell_type": "code",
   "execution_count": 49,
   "metadata": {
    "ExecuteTime": {
     "end_time": "2020-05-22T20:33:52.641168Z",
     "start_time": "2020-05-22T20:33:52.637178Z"
    }
   },
   "outputs": [
    {
     "data": {
      "text/plain": [
       "0     35\n",
       "1    171\n",
       "2     93\n",
       "3     21\n",
       "4     25\n",
       "Name: raw_visitor_counts, dtype: int64"
      ]
     },
     "execution_count": 49,
     "metadata": {},
     "output_type": "execute_result"
    }
   ],
   "source": [
    "d.raw_visitor_counts.head()"
   ]
  },
  {
   "cell_type": "code",
   "execution_count": 52,
   "metadata": {
    "ExecuteTime": {
     "end_time": "2020-05-22T20:34:32.778566Z",
     "start_time": "2020-05-22T20:34:32.773580Z"
    }
   },
   "outputs": [
    {
     "data": {
      "text/plain": [
       "0    [1,0,1,0,0,0,0,1,0,0,0,0,0,0,0,0,0,0,1,0,1,0,1...\n",
       "1    [0,0,0,0,0,0,0,0,0,1,1,1,1,1,4,2,1,0,6,1,1,0,0...\n",
       "2    [0,0,0,0,0,1,0,0,0,0,1,1,1,0,3,1,1,3,0,2,0,0,2...\n",
       "3    [0,0,0,0,0,0,0,0,1,2,0,2,1,1,1,0,0,0,1,1,0,0,0...\n",
       "4    [0,0,0,0,0,0,0,0,0,0,0,0,0,1,0,0,0,0,0,0,0,0,0...\n",
       "Name: visits_by_each_hour, dtype: object"
      ]
     },
     "execution_count": 52,
     "metadata": {},
     "output_type": "execute_result"
    }
   ],
   "source": [
    "d.visits_by_each_hour.head()"
   ]
  },
  {
   "cell_type": "code",
   "execution_count": 53,
   "metadata": {
    "ExecuteTime": {
     "end_time": "2020-05-22T20:35:49.837897Z",
     "start_time": "2020-05-22T20:35:49.832910Z"
    }
   },
   "outputs": [
    {
     "data": {
      "text/plain": [
       "0    4.843911e+11\n",
       "1    1.113031e+10\n",
       "2    3.608100e+11\n",
       "3    1.207100e+11\n",
       "4    4.021941e+10\n",
       "Name: poi_cbg, dtype: float64"
      ]
     },
     "execution_count": 53,
     "metadata": {},
     "output_type": "execute_result"
    }
   ],
   "source": [
    "d.poi_cbg.head() # census block group"
   ]
  },
  {
   "cell_type": "code",
   "execution_count": 54,
   "metadata": {
    "ExecuteTime": {
     "end_time": "2020-05-22T20:36:23.062565Z",
     "start_time": "2020-05-22T20:36:23.058548Z"
    }
   },
   "outputs": [
    {
     "data": {
      "text/plain": [
       "0    {\"484391131041\":11,\"484391141042\":4,\"484391131...\n",
       "1    {\"011130306003\":15,\"011130309022\":10,\"01113030...\n",
       "2    {\"360810040021\":7,\"360810086001\":5,\"3608100200...\n",
       "3    {\"120710102042\":4,\"120710401273\":4,\"1207104020...\n",
       "4    {\"040219412004\":4,\"040219413001\":4,\"0401311661...\n",
       "Name: visitor_home_cbgs, dtype: object"
      ]
     },
     "execution_count": 54,
     "metadata": {},
     "output_type": "execute_result"
    }
   ],
   "source": [
    "d.visitor_home_cbgs.head() # visitors census block groups"
   ]
  },
  {
   "cell_type": "code",
   "execution_count": 55,
   "metadata": {
    "ExecuteTime": {
     "end_time": "2020-05-22T20:37:32.732401Z",
     "start_time": "2020-05-22T20:37:32.727414Z"
    }
   },
   "outputs": [
    {
     "data": {
      "text/plain": [
       "0    1007 Mill Crescent Pl Ste 274\n",
       "1                 1134 280 By Pass\n",
       "2                 9617 Liberty Ave\n",
       "3          4210 Metro Pkwy Ste 230\n",
       "4                    190 W Pima St\n",
       "Name: street_address, dtype: object"
      ]
     },
     "execution_count": 55,
     "metadata": {},
     "output_type": "execute_result"
    }
   ],
   "source": [
    "d.street_address.head()"
   ]
  },
  {
   "cell_type": "code",
   "execution_count": 59,
   "metadata": {
    "ExecuteTime": {
     "end_time": "2020-05-22T20:38:35.141215Z",
     "start_time": "2020-05-22T20:38:35.137226Z"
    }
   },
   "outputs": [
    {
     "data": {
      "text/plain": [
       "'2019-07-08-home-panel-summary.csv'"
      ]
     },
     "execution_count": 59,
     "metadata": {},
     "output_type": "execute_result"
    }
   ],
   "source": [
    "wk_home_summary = os.listdir(wkpatpath + 'home-summary-file/')\n",
    "f = np.random.choice(wk_home_summary)\n",
    "f"
   ]
  },
  {
   "cell_type": "code",
   "execution_count": 60,
   "metadata": {
    "ExecuteTime": {
     "end_time": "2020-05-22T20:38:57.819114Z",
     "start_time": "2020-05-22T20:38:57.622193Z"
    }
   },
   "outputs": [],
   "source": [
    "d = pd.read_csv(wkpatpath+'home-summary-file/'+f)"
   ]
  },
  {
   "cell_type": "code",
   "execution_count": 61,
   "metadata": {
    "ExecuteTime": {
     "end_time": "2020-05-22T20:39:00.400301Z",
     "start_time": "2020-05-22T20:39:00.393302Z"
    }
   },
   "outputs": [
    {
     "data": {
      "text/html": [
       "<div>\n",
       "<style scoped>\n",
       "    .dataframe tbody tr th:only-of-type {\n",
       "        vertical-align: middle;\n",
       "    }\n",
       "\n",
       "    .dataframe tbody tr th {\n",
       "        vertical-align: top;\n",
       "    }\n",
       "\n",
       "    .dataframe thead th {\n",
       "        text-align: right;\n",
       "    }\n",
       "</style>\n",
       "<table border=\"1\" class=\"dataframe\">\n",
       "  <thead>\n",
       "    <tr style=\"text-align: right;\">\n",
       "      <th></th>\n",
       "      <th>date_range_start</th>\n",
       "      <th>date_range_end</th>\n",
       "      <th>state</th>\n",
       "      <th>census_block_group</th>\n",
       "      <th>number_devices_residing</th>\n",
       "    </tr>\n",
       "  </thead>\n",
       "  <tbody>\n",
       "    <tr>\n",
       "      <th>0</th>\n",
       "      <td>2019-07-08T00:00:00-08:00</td>\n",
       "      <td>2019-07-15T00:00:00-08:00</td>\n",
       "      <td>ak</td>\n",
       "      <td>21220006005</td>\n",
       "      <td>55</td>\n",
       "    </tr>\n",
       "    <tr>\n",
       "      <th>1</th>\n",
       "      <td>2019-07-08T00:00:00-08:00</td>\n",
       "      <td>2019-07-15T00:00:00-08:00</td>\n",
       "      <td>ak</td>\n",
       "      <td>20200010002</td>\n",
       "      <td>114</td>\n",
       "    </tr>\n",
       "    <tr>\n",
       "      <th>2</th>\n",
       "      <td>2019-07-08T00:00:00-08:00</td>\n",
       "      <td>2019-07-15T00:00:00-08:00</td>\n",
       "      <td>ak</td>\n",
       "      <td>20200014004</td>\n",
       "      <td>58</td>\n",
       "    </tr>\n",
       "    <tr>\n",
       "      <th>3</th>\n",
       "      <td>2019-07-08T00:00:00-08:00</td>\n",
       "      <td>2019-07-15T00:00:00-08:00</td>\n",
       "      <td>ak</td>\n",
       "      <td>20900001001</td>\n",
       "      <td>73</td>\n",
       "    </tr>\n",
       "    <tr>\n",
       "      <th>4</th>\n",
       "      <td>2019-07-08T00:00:00-08:00</td>\n",
       "      <td>2019-07-15T00:00:00-08:00</td>\n",
       "      <td>ak</td>\n",
       "      <td>20200029004</td>\n",
       "      <td>34</td>\n",
       "    </tr>\n",
       "  </tbody>\n",
       "</table>\n",
       "</div>"
      ],
      "text/plain": [
       "            date_range_start             date_range_end state  \\\n",
       "0  2019-07-08T00:00:00-08:00  2019-07-15T00:00:00-08:00    ak   \n",
       "1  2019-07-08T00:00:00-08:00  2019-07-15T00:00:00-08:00    ak   \n",
       "2  2019-07-08T00:00:00-08:00  2019-07-15T00:00:00-08:00    ak   \n",
       "3  2019-07-08T00:00:00-08:00  2019-07-15T00:00:00-08:00    ak   \n",
       "4  2019-07-08T00:00:00-08:00  2019-07-15T00:00:00-08:00    ak   \n",
       "\n",
       "   census_block_group  number_devices_residing  \n",
       "0         21220006005                       55  \n",
       "1         20200010002                      114  \n",
       "2         20200014004                       58  \n",
       "3         20900001001                       73  \n",
       "4         20200029004                       34  "
      ]
     },
     "execution_count": 61,
     "metadata": {},
     "output_type": "execute_result"
    }
   ],
   "source": [
    "d.head() # Basically just the number of devices at each census block at home during week."
   ]
  },
  {
   "cell_type": "code",
   "execution_count": 85,
   "metadata": {
    "ExecuteTime": {
     "end_time": "2020-05-22T21:11:01.587585Z",
     "start_time": "2020-05-22T21:11:01.582598Z"
    }
   },
   "outputs": [
    {
     "data": {
      "text/plain": [
       "'2019-02-11-normalization-stats.csv'"
      ]
     },
     "execution_count": 85,
     "metadata": {},
     "output_type": "execute_result"
    }
   ],
   "source": [
    "wk_norm_flist = os.listdir(wkpatpath + 'normalization-stats/')\n",
    "f = np.random.choice(wk_norm_flist)\n",
    "f"
   ]
  },
  {
   "cell_type": "code",
   "execution_count": 86,
   "metadata": {
    "ExecuteTime": {
     "end_time": "2020-05-22T21:11:13.793364Z",
     "start_time": "2020-05-22T21:11:13.781395Z"
    }
   },
   "outputs": [
    {
     "data": {
      "text/html": [
       "<div>\n",
       "<style scoped>\n",
       "    .dataframe tbody tr th:only-of-type {\n",
       "        vertical-align: middle;\n",
       "    }\n",
       "\n",
       "    .dataframe tbody tr th {\n",
       "        vertical-align: top;\n",
       "    }\n",
       "\n",
       "    .dataframe thead th {\n",
       "        text-align: right;\n",
       "    }\n",
       "</style>\n",
       "<table border=\"1\" class=\"dataframe\">\n",
       "  <thead>\n",
       "    <tr style=\"text-align: right;\">\n",
       "      <th></th>\n",
       "      <th>year</th>\n",
       "      <th>month</th>\n",
       "      <th>day</th>\n",
       "      <th>total_visits</th>\n",
       "      <th>total_devices_seen</th>\n",
       "      <th>total_home_visits</th>\n",
       "      <th>total_home_visitors</th>\n",
       "    </tr>\n",
       "  </thead>\n",
       "  <tbody>\n",
       "    <tr>\n",
       "      <th>0</th>\n",
       "      <td>2019</td>\n",
       "      <td>2</td>\n",
       "      <td>11</td>\n",
       "      <td>57743412</td>\n",
       "      <td>18932305</td>\n",
       "      <td>24868952</td>\n",
       "      <td>15131435</td>\n",
       "    </tr>\n",
       "    <tr>\n",
       "      <th>1</th>\n",
       "      <td>2019</td>\n",
       "      <td>2</td>\n",
       "      <td>12</td>\n",
       "      <td>61636611</td>\n",
       "      <td>19125594</td>\n",
       "      <td>26140653</td>\n",
       "      <td>15243757</td>\n",
       "    </tr>\n",
       "    <tr>\n",
       "      <th>2</th>\n",
       "      <td>2019</td>\n",
       "      <td>2</td>\n",
       "      <td>13</td>\n",
       "      <td>63347787</td>\n",
       "      <td>18444063</td>\n",
       "      <td>25468864</td>\n",
       "      <td>14576636</td>\n",
       "    </tr>\n",
       "    <tr>\n",
       "      <th>3</th>\n",
       "      <td>2019</td>\n",
       "      <td>2</td>\n",
       "      <td>14</td>\n",
       "      <td>65247600</td>\n",
       "      <td>18352364</td>\n",
       "      <td>25756984</td>\n",
       "      <td>14435483</td>\n",
       "    </tr>\n",
       "    <tr>\n",
       "      <th>4</th>\n",
       "      <td>2019</td>\n",
       "      <td>2</td>\n",
       "      <td>15</td>\n",
       "      <td>63239072</td>\n",
       "      <td>18309891</td>\n",
       "      <td>24589899</td>\n",
       "      <td>14124838</td>\n",
       "    </tr>\n",
       "  </tbody>\n",
       "</table>\n",
       "</div>"
      ],
      "text/plain": [
       "   year  month  day  total_visits  total_devices_seen  total_home_visits  \\\n",
       "0  2019      2   11      57743412            18932305           24868952   \n",
       "1  2019      2   12      61636611            19125594           26140653   \n",
       "2  2019      2   13      63347787            18444063           25468864   \n",
       "3  2019      2   14      65247600            18352364           25756984   \n",
       "4  2019      2   15      63239072            18309891           24589899   \n",
       "\n",
       "   total_home_visitors  \n",
       "0             15131435  \n",
       "1             15243757  \n",
       "2             14576636  \n",
       "3             14435483  \n",
       "4             14124838  "
      ]
     },
     "execution_count": 86,
     "metadata": {},
     "output_type": "execute_result"
    }
   ],
   "source": [
    "d = pd.read_csv(wkpatpath+'/normalization-stats/'+f)\n",
    "d.head()"
   ]
  },
  {
   "cell_type": "markdown",
   "metadata": {},
   "source": [
    "# Transactions"
   ]
  },
  {
   "cell_type": "code",
   "execution_count": 62,
   "metadata": {
    "ExecuteTime": {
     "end_time": "2020-05-22T20:40:27.002666Z",
     "start_time": "2020-05-22T20:40:26.999677Z"
    }
   },
   "outputs": [
    {
     "data": {
      "text/plain": [
       "['cut-1-daily-spend-by-zip',\n",
       " 'cut-2-daily-spend-by-zip-by-mcc',\n",
       " 'cut-3-daily-spend-by-brand',\n",
       " 'cut-4-daily-spend-at-walmart',\n",
       " 'cut-5-daily-federal-deposits-by-zip',\n",
       " 'monthly-panel-summary']"
      ]
     },
     "execution_count": 62,
     "metadata": {},
     "output_type": "execute_result"
    }
   ],
   "source": [
    "transpath = 'D://safegraph/transactions/'\n",
    "os.listdir(transpath)"
   ]
  },
  {
   "cell_type": "code",
   "execution_count": 76,
   "metadata": {
    "ExecuteTime": {
     "end_time": "2020-05-22T20:52:12.973873Z",
     "start_time": "2020-05-22T20:52:12.968886Z"
    }
   },
   "outputs": [
    {
     "data": {
      "text/plain": [
       "(['2020-04-05', '2020-04-22', '2020-05-19'],\n",
       " ['cut-1-daily-spend-by-zip-20170101-20200405.csv.gz'])"
      ]
     },
     "execution_count": 76,
     "metadata": {},
     "output_type": "execute_result"
    }
   ],
   "source": [
    "os.listdir(transpath + 'cut-1-daily-spend-by-zip/'), os.listdir(transpath + 'cut-1-daily-spend-by-zip/2020-04-05/')"
   ]
  },
  {
   "cell_type": "code",
   "execution_count": 88,
   "metadata": {
    "ExecuteTime": {
     "end_time": "2020-05-22T22:30:31.721069Z",
     "start_time": "2020-05-22T22:30:21.104250Z"
    }
   },
   "outputs": [
    {
     "data": {
      "text/html": [
       "<div>\n",
       "<style scoped>\n",
       "    .dataframe tbody tr th:only-of-type {\n",
       "        vertical-align: middle;\n",
       "    }\n",
       "\n",
       "    .dataframe tbody tr th {\n",
       "        vertical-align: top;\n",
       "    }\n",
       "\n",
       "    .dataframe thead th {\n",
       "        text-align: right;\n",
       "    }\n",
       "</style>\n",
       "<table border=\"1\" class=\"dataframe\">\n",
       "  <thead>\n",
       "    <tr style=\"text-align: right;\">\n",
       "      <th></th>\n",
       "      <th>date</th>\n",
       "      <th>cardholder_zip</th>\n",
       "      <th>num_cards</th>\n",
       "      <th>num_trans</th>\n",
       "      <th>total_spend</th>\n",
       "    </tr>\n",
       "  </thead>\n",
       "  <tbody>\n",
       "    <tr>\n",
       "      <th>0</th>\n",
       "      <td>2017-01-01</td>\n",
       "      <td>1566</td>\n",
       "      <td>8</td>\n",
       "      <td>14</td>\n",
       "      <td>570.01</td>\n",
       "    </tr>\n",
       "    <tr>\n",
       "      <th>1</th>\n",
       "      <td>2017-01-01</td>\n",
       "      <td>1887</td>\n",
       "      <td>18</td>\n",
       "      <td>29</td>\n",
       "      <td>651.23</td>\n",
       "    </tr>\n",
       "    <tr>\n",
       "      <th>2</th>\n",
       "      <td>2017-01-01</td>\n",
       "      <td>1945</td>\n",
       "      <td>8</td>\n",
       "      <td>9</td>\n",
       "      <td>86.10</td>\n",
       "    </tr>\n",
       "    <tr>\n",
       "      <th>3</th>\n",
       "      <td>2017-01-01</td>\n",
       "      <td>1969</td>\n",
       "      <td>4</td>\n",
       "      <td>4</td>\n",
       "      <td>60.90</td>\n",
       "    </tr>\n",
       "    <tr>\n",
       "      <th>4</th>\n",
       "      <td>2017-01-01</td>\n",
       "      <td>2451</td>\n",
       "      <td>18</td>\n",
       "      <td>25</td>\n",
       "      <td>588.24</td>\n",
       "    </tr>\n",
       "  </tbody>\n",
       "</table>\n",
       "</div>"
      ],
      "text/plain": [
       "         date  cardholder_zip  num_cards  num_trans  total_spend\n",
       "0  2017-01-01            1566          8         14       570.01\n",
       "1  2017-01-01            1887         18         29       651.23\n",
       "2  2017-01-01            1945          8          9        86.10\n",
       "3  2017-01-01            1969          4          4        60.90\n",
       "4  2017-01-01            2451         18         25       588.24"
      ]
     },
     "execution_count": 88,
     "metadata": {},
     "output_type": "execute_result"
    }
   ],
   "source": [
    "d = pd.read_csv(transpath + 'cut-1-daily-spend-by-zip/2020-04-05/'  + 'cut-1-daily-spend-by-zip-20170101-20200405.csv.gz', compression = 'gzip')\n",
    "d.columns = ['date', 'cardholder_zip', 'num_cards', 'num_trans', 'total_spend']\n",
    "d.head()"
   ]
  },
  {
   "cell_type": "code",
   "execution_count": 92,
   "metadata": {
    "ExecuteTime": {
     "end_time": "2020-05-22T22:33:24.070921Z",
     "start_time": "2020-05-22T22:33:24.066913Z"
    }
   },
   "outputs": [
    {
     "data": {
      "text/plain": [
       "(['2020-04-14', '2020-04-22', '2020-05-19'],\n",
       " ['daily-spend-by-brand-20170101-20200405-1.csv.gz',\n",
       "  'daily-spend-by-brand-20170101-20200405-2.csv.gz',\n",
       "  'daily-spend-by-brand-20170101-20200405-3.csv.gz',\n",
       "  'daily-spend-by-brand-20170101-20200405-4.csv.gz'])"
      ]
     },
     "execution_count": 92,
     "metadata": {},
     "output_type": "execute_result"
    }
   ],
   "source": [
    "os.listdir(transpath + 'cut-3-daily-spend-by-brand/'), os.listdir(transpath + 'cut-3-daily-spend-by-brand/2020-04-14')"
   ]
  },
  {
   "cell_type": "code",
   "execution_count": 94,
   "metadata": {
    "ExecuteTime": {
     "end_time": "2020-05-22T22:38:12.360089Z",
     "start_time": "2020-05-22T22:38:12.352102Z"
    }
   },
   "outputs": [
    {
     "data": {
      "text/html": [
       "<div>\n",
       "<style scoped>\n",
       "    .dataframe tbody tr th:only-of-type {\n",
       "        vertical-align: middle;\n",
       "    }\n",
       "\n",
       "    .dataframe tbody tr th {\n",
       "        vertical-align: top;\n",
       "    }\n",
       "\n",
       "    .dataframe thead th {\n",
       "        text-align: right;\n",
       "    }\n",
       "</style>\n",
       "<table border=\"1\" class=\"dataframe\">\n",
       "  <thead>\n",
       "    <tr style=\"text-align: right;\">\n",
       "      <th></th>\n",
       "      <th>date</th>\n",
       "      <th>merchant_name</th>\n",
       "      <th>sg_brandid</th>\n",
       "      <th>cardholder_zip</th>\n",
       "      <th>num_cards</th>\n",
       "      <th>num_trans</th>\n",
       "      <th>total_spend</th>\n",
       "    </tr>\n",
       "  </thead>\n",
       "  <tbody>\n",
       "    <tr>\n",
       "      <th>0</th>\n",
       "      <td>2017-01-01</td>\n",
       "      <td>24 HOUR FITNESS</td>\n",
       "      <td>SG_BRAND_1dff6738894adf75487b2c1ba5f54873</td>\n",
       "      <td>80128</td>\n",
       "      <td>1</td>\n",
       "      <td>1</td>\n",
       "      <td>36.00</td>\n",
       "    </tr>\n",
       "    <tr>\n",
       "      <th>1</th>\n",
       "      <td>2017-01-01</td>\n",
       "      <td>24 HOUR FITNESS</td>\n",
       "      <td>SG_BRAND_1dff6738894adf75487b2c1ba5f54873</td>\n",
       "      <td>80221</td>\n",
       "      <td>1</td>\n",
       "      <td>1</td>\n",
       "      <td>30.44</td>\n",
       "    </tr>\n",
       "    <tr>\n",
       "      <th>2</th>\n",
       "      <td>2017-01-01</td>\n",
       "      <td>7-ELEVEN</td>\n",
       "      <td>SG_BRAND_2e2448f12fc87fe452e9166153797a7f</td>\n",
       "      <td>6451</td>\n",
       "      <td>3</td>\n",
       "      <td>3</td>\n",
       "      <td>68.11</td>\n",
       "    </tr>\n",
       "    <tr>\n",
       "      <th>3</th>\n",
       "      <td>2017-01-01</td>\n",
       "      <td>7-ELEVEN</td>\n",
       "      <td>SG_BRAND_2e2448f12fc87fe452e9166153797a7f</td>\n",
       "      <td>6706</td>\n",
       "      <td>10</td>\n",
       "      <td>10</td>\n",
       "      <td>80.98</td>\n",
       "    </tr>\n",
       "    <tr>\n",
       "      <th>4</th>\n",
       "      <td>2017-01-01</td>\n",
       "      <td>7-ELEVEN</td>\n",
       "      <td>SG_BRAND_2e2448f12fc87fe452e9166153797a7f</td>\n",
       "      <td>7111</td>\n",
       "      <td>17</td>\n",
       "      <td>21</td>\n",
       "      <td>204.44</td>\n",
       "    </tr>\n",
       "  </tbody>\n",
       "</table>\n",
       "</div>"
      ],
      "text/plain": [
       "         date    merchant_name                                 sg_brandid  \\\n",
       "0  2017-01-01  24 HOUR FITNESS  SG_BRAND_1dff6738894adf75487b2c1ba5f54873   \n",
       "1  2017-01-01  24 HOUR FITNESS  SG_BRAND_1dff6738894adf75487b2c1ba5f54873   \n",
       "2  2017-01-01         7-ELEVEN  SG_BRAND_2e2448f12fc87fe452e9166153797a7f   \n",
       "3  2017-01-01         7-ELEVEN  SG_BRAND_2e2448f12fc87fe452e9166153797a7f   \n",
       "4  2017-01-01         7-ELEVEN  SG_BRAND_2e2448f12fc87fe452e9166153797a7f   \n",
       "\n",
       "   cardholder_zip  num_cards  num_trans  total_spend  \n",
       "0           80128          1          1        36.00  \n",
       "1           80221          1          1        30.44  \n",
       "2            6451          3          3        68.11  \n",
       "3            6706         10         10        80.98  \n",
       "4            7111         17         21       204.44  "
      ]
     },
     "execution_count": 94,
     "metadata": {},
     "output_type": "execute_result"
    }
   ],
   "source": [
    "d = pd.read_csv(transpath + 'cut-3-daily-spend-by-brand/2020-04-14/daily-spend-by-brand-20170101-20200405-1.csv.gz', compression = 'gzip', header = None)\n",
    "d.columns = ['date', 'merchant_name', 'sg_brandid', 'cardholder_zip', 'num_cards', 'num_trans', 'total_spend']\n",
    "d.head()"
   ]
  },
  {
   "cell_type": "code",
   "execution_count": 98,
   "metadata": {
    "ExecuteTime": {
     "end_time": "2020-05-22T22:45:14.769631Z",
     "start_time": "2020-05-22T22:45:14.765612Z"
    }
   },
   "outputs": [
    {
     "data": {
      "text/plain": [
       "(['2020-04-22'],\n",
       " ['daily-spend-by-zip-walmart-instore-20170101-20200417.csv.gz',\n",
       "  'daily-spend-by-zip-walmart-online-20170101-20200417.csv.gz'])"
      ]
     },
     "execution_count": 98,
     "metadata": {},
     "output_type": "execute_result"
    }
   ],
   "source": [
    "os.listdir(transpath+'cut-4-daily-spend-at-walmart/'), os.listdir(transpath+'cut-4-daily-spend-at-walmart/2020-04-22/')"
   ]
  },
  {
   "cell_type": "code",
   "execution_count": 101,
   "metadata": {
    "ExecuteTime": {
     "end_time": "2020-05-22T22:47:00.363918Z",
     "start_time": "2020-05-22T22:46:52.510921Z"
    }
   },
   "outputs": [
    {
     "data": {
      "text/html": [
       "<div>\n",
       "<style scoped>\n",
       "    .dataframe tbody tr th:only-of-type {\n",
       "        vertical-align: middle;\n",
       "    }\n",
       "\n",
       "    .dataframe tbody tr th {\n",
       "        vertical-align: top;\n",
       "    }\n",
       "\n",
       "    .dataframe thead th {\n",
       "        text-align: right;\n",
       "    }\n",
       "</style>\n",
       "<table border=\"1\" class=\"dataframe\">\n",
       "  <thead>\n",
       "    <tr style=\"text-align: right;\">\n",
       "      <th></th>\n",
       "      <th>date</th>\n",
       "      <th>cardholder_zip</th>\n",
       "      <th>num_cards</th>\n",
       "      <th>num_trans</th>\n",
       "      <th>total_spend</th>\n",
       "    </tr>\n",
       "  </thead>\n",
       "  <tbody>\n",
       "    <tr>\n",
       "      <th>0</th>\n",
       "      <td>2017-01-01</td>\n",
       "      <td>612</td>\n",
       "      <td>2</td>\n",
       "      <td>2</td>\n",
       "      <td>86.24</td>\n",
       "    </tr>\n",
       "    <tr>\n",
       "      <th>1</th>\n",
       "      <td>2017-01-01</td>\n",
       "      <td>617</td>\n",
       "      <td>1</td>\n",
       "      <td>1</td>\n",
       "      <td>3.88</td>\n",
       "    </tr>\n",
       "    <tr>\n",
       "      <th>2</th>\n",
       "      <td>2017-01-01</td>\n",
       "      <td>646</td>\n",
       "      <td>2</td>\n",
       "      <td>2</td>\n",
       "      <td>19.23</td>\n",
       "    </tr>\n",
       "    <tr>\n",
       "      <th>3</th>\n",
       "      <td>2017-01-01</td>\n",
       "      <td>650</td>\n",
       "      <td>1</td>\n",
       "      <td>1</td>\n",
       "      <td>1.00</td>\n",
       "    </tr>\n",
       "    <tr>\n",
       "      <th>4</th>\n",
       "      <td>2017-01-01</td>\n",
       "      <td>680</td>\n",
       "      <td>1</td>\n",
       "      <td>1</td>\n",
       "      <td>4.12</td>\n",
       "    </tr>\n",
       "  </tbody>\n",
       "</table>\n",
       "</div>"
      ],
      "text/plain": [
       "         date  cardholder_zip  num_cards  num_trans  total_spend\n",
       "0  2017-01-01             612          2          2        86.24\n",
       "1  2017-01-01             617          1          1         3.88\n",
       "2  2017-01-01             646          2          2        19.23\n",
       "3  2017-01-01             650          1          1         1.00\n",
       "4  2017-01-01             680          1          1         4.12"
      ]
     },
     "execution_count": 101,
     "metadata": {},
     "output_type": "execute_result"
    }
   ],
   "source": [
    "d = pd.read_csv(transpath + 'cut-4-daily-spend-at-walmart/2020-04-22/daily-spend-by-zip-walmart-instore-20170101-20200417.csv.gz', compression = 'gzip', header = None, sep = '|')\n",
    "d.columns = ['date', 'cardholder_zip', 'num_cards', 'num_trans', 'total_spend'] # in store\n",
    "d.head()"
   ]
  },
  {
   "cell_type": "code",
   "execution_count": 102,
   "metadata": {
    "ExecuteTime": {
     "end_time": "2020-05-22T22:47:16.657526Z",
     "start_time": "2020-05-22T22:47:15.034838Z"
    }
   },
   "outputs": [
    {
     "data": {
      "text/html": [
       "<div>\n",
       "<style scoped>\n",
       "    .dataframe tbody tr th:only-of-type {\n",
       "        vertical-align: middle;\n",
       "    }\n",
       "\n",
       "    .dataframe tbody tr th {\n",
       "        vertical-align: top;\n",
       "    }\n",
       "\n",
       "    .dataframe thead th {\n",
       "        text-align: right;\n",
       "    }\n",
       "</style>\n",
       "<table border=\"1\" class=\"dataframe\">\n",
       "  <thead>\n",
       "    <tr style=\"text-align: right;\">\n",
       "      <th></th>\n",
       "      <th>date</th>\n",
       "      <th>cardholder_zip</th>\n",
       "      <th>num_cards</th>\n",
       "      <th>num_trans</th>\n",
       "      <th>total_spend</th>\n",
       "    </tr>\n",
       "  </thead>\n",
       "  <tbody>\n",
       "    <tr>\n",
       "      <th>0</th>\n",
       "      <td>2017-01-01</td>\n",
       "      <td>1040</td>\n",
       "      <td>2</td>\n",
       "      <td>2</td>\n",
       "      <td>118.73</td>\n",
       "    </tr>\n",
       "    <tr>\n",
       "      <th>1</th>\n",
       "      <td>2017-01-01</td>\n",
       "      <td>1108</td>\n",
       "      <td>1</td>\n",
       "      <td>1</td>\n",
       "      <td>9.77</td>\n",
       "    </tr>\n",
       "    <tr>\n",
       "      <th>2</th>\n",
       "      <td>2017-01-01</td>\n",
       "      <td>1420</td>\n",
       "      <td>1</td>\n",
       "      <td>1</td>\n",
       "      <td>19.21</td>\n",
       "    </tr>\n",
       "    <tr>\n",
       "      <th>3</th>\n",
       "      <td>2017-01-01</td>\n",
       "      <td>1588</td>\n",
       "      <td>1</td>\n",
       "      <td>1</td>\n",
       "      <td>177.94</td>\n",
       "    </tr>\n",
       "    <tr>\n",
       "      <th>4</th>\n",
       "      <td>2017-01-01</td>\n",
       "      <td>1840</td>\n",
       "      <td>1</td>\n",
       "      <td>1</td>\n",
       "      <td>188.48</td>\n",
       "    </tr>\n",
       "  </tbody>\n",
       "</table>\n",
       "</div>"
      ],
      "text/plain": [
       "         date  cardholder_zip  num_cards  num_trans  total_spend\n",
       "0  2017-01-01            1040          2          2       118.73\n",
       "1  2017-01-01            1108          1          1         9.77\n",
       "2  2017-01-01            1420          1          1        19.21\n",
       "3  2017-01-01            1588          1          1       177.94\n",
       "4  2017-01-01            1840          1          1       188.48"
      ]
     },
     "execution_count": 102,
     "metadata": {},
     "output_type": "execute_result"
    }
   ],
   "source": [
    "d = pd.read_csv(transpath + 'cut-4-daily-spend-at-walmart/2020-04-22/daily-spend-by-zip-walmart-online-20170101-20200417.csv.gz', compression = 'gzip', header = None, sep = '|')\n",
    "d.columns = ['date', 'cardholder_zip', 'num_cards', 'num_trans', 'total_spend'] # online\n",
    "d.head()"
   ]
  },
  {
   "cell_type": "code",
   "execution_count": 104,
   "metadata": {
    "ExecuteTime": {
     "end_time": "2020-05-22T22:48:04.322519Z",
     "start_time": "2020-05-22T22:48:04.318539Z"
    }
   },
   "outputs": [
    {
     "data": {
      "text/plain": [
       "(['2020-04-28'],\n",
       " ['cut-5-daily-federal-deposit-by-zip-20170101-20200417.csv.gz'])"
      ]
     },
     "execution_count": 104,
     "metadata": {},
     "output_type": "execute_result"
    }
   ],
   "source": [
    "os.listdir(transpath+'cut-5-daily-federal-deposits-by-zip/'), os.listdir(transpath+'cut-5-daily-federal-deposits-by-zip/2020-04-28/')"
   ]
  },
  {
   "cell_type": "code",
   "execution_count": 105,
   "metadata": {
    "ExecuteTime": {
     "end_time": "2020-05-22T22:48:27.204380Z",
     "start_time": "2020-05-22T22:48:27.076623Z"
    }
   },
   "outputs": [
    {
     "data": {
      "text/html": [
       "<div>\n",
       "<style scoped>\n",
       "    .dataframe tbody tr th:only-of-type {\n",
       "        vertical-align: middle;\n",
       "    }\n",
       "\n",
       "    .dataframe tbody tr th {\n",
       "        vertical-align: top;\n",
       "    }\n",
       "\n",
       "    .dataframe thead th {\n",
       "        text-align: right;\n",
       "    }\n",
       "</style>\n",
       "<table border=\"1\" class=\"dataframe\">\n",
       "  <thead>\n",
       "    <tr style=\"text-align: right;\">\n",
       "      <th></th>\n",
       "      <th>day</th>\n",
       "      <th>zip</th>\n",
       "      <th>num_cards</th>\n",
       "      <th>num_transaction</th>\n",
       "      <th>total_amount</th>\n",
       "    </tr>\n",
       "  </thead>\n",
       "  <tbody>\n",
       "    <tr>\n",
       "      <th>0</th>\n",
       "      <td>2017-01-01</td>\n",
       "      <td>1550</td>\n",
       "      <td>1</td>\n",
       "      <td>1</td>\n",
       "      <td>7906.97</td>\n",
       "    </tr>\n",
       "    <tr>\n",
       "      <th>1</th>\n",
       "      <td>2017-01-01</td>\n",
       "      <td>2121</td>\n",
       "      <td>1</td>\n",
       "      <td>1</td>\n",
       "      <td>6778.54</td>\n",
       "    </tr>\n",
       "    <tr>\n",
       "      <th>2</th>\n",
       "      <td>2017-01-01</td>\n",
       "      <td>6051</td>\n",
       "      <td>1</td>\n",
       "      <td>1</td>\n",
       "      <td>7073.45</td>\n",
       "    </tr>\n",
       "    <tr>\n",
       "      <th>3</th>\n",
       "      <td>2017-01-01</td>\n",
       "      <td>7018</td>\n",
       "      <td>1</td>\n",
       "      <td>1</td>\n",
       "      <td>2555.12</td>\n",
       "    </tr>\n",
       "    <tr>\n",
       "      <th>4</th>\n",
       "      <td>2017-01-01</td>\n",
       "      <td>10566</td>\n",
       "      <td>1</td>\n",
       "      <td>1</td>\n",
       "      <td>189.07</td>\n",
       "    </tr>\n",
       "  </tbody>\n",
       "</table>\n",
       "</div>"
      ],
      "text/plain": [
       "          day    zip  num_cards  num_transaction  total_amount\n",
       "0  2017-01-01   1550          1                1       7906.97\n",
       "1  2017-01-01   2121          1                1       6778.54\n",
       "2  2017-01-01   6051          1                1       7073.45\n",
       "3  2017-01-01   7018          1                1       2555.12\n",
       "4  2017-01-01  10566          1                1        189.07"
      ]
     },
     "execution_count": 105,
     "metadata": {},
     "output_type": "execute_result"
    }
   ],
   "source": [
    "d = pd.read_csv(transpath+'cut-5-daily-federal-deposits-by-zip/2020-04-28/'+'cut-5-daily-federal-deposit-by-zip-20170101-20200417.csv.gz')\n",
    "d.head() # number of transactions and amount in zip code by no. of cards"
   ]
  },
  {
   "cell_type": "markdown",
   "metadata": {},
   "source": [
    "# Core places"
   ]
  },
  {
   "cell_type": "code",
   "execution_count": 108,
   "metadata": {
    "ExecuteTime": {
     "end_time": "2020-05-22T23:06:29.829339Z",
     "start_time": "2020-05-22T23:06:29.826342Z"
    }
   },
   "outputs": [
    {
     "data": {
      "text/plain": [
       "['brand_info.csv',\n",
       " 'core_poi-part1.csv.gz',\n",
       " 'core_poi-part2.csv.gz',\n",
       " 'core_poi-part3.csv.gz',\n",
       " 'core_poi-part4.csv.gz',\n",
       " 'core_poi-part5.csv.gz',\n",
       " 'README.txt']"
      ]
     },
     "execution_count": 108,
     "metadata": {},
     "output_type": "execute_result"
    }
   ],
   "source": [
    "placepath = 'D://safegraph/coreplaces/'\n",
    "os.listdir(placepath)"
   ]
  },
  {
   "cell_type": "code",
   "execution_count": 109,
   "metadata": {
    "ExecuteTime": {
     "end_time": "2020-05-22T23:07:06.686087Z",
     "start_time": "2020-05-22T23:07:01.802983Z"
    }
   },
   "outputs": [],
   "source": [
    "d = pd.read_csv(placepath + 'core_poi-part1.csv.gz', compression = 'gzip')"
   ]
  },
  {
   "cell_type": "code",
   "execution_count": 110,
   "metadata": {
    "ExecuteTime": {
     "end_time": "2020-05-22T23:07:06.700900Z",
     "start_time": "2020-05-22T23:07:06.686937Z"
    }
   },
   "outputs": [
    {
     "data": {
      "text/html": [
       "<div>\n",
       "<style scoped>\n",
       "    .dataframe tbody tr th:only-of-type {\n",
       "        vertical-align: middle;\n",
       "    }\n",
       "\n",
       "    .dataframe tbody tr th {\n",
       "        vertical-align: top;\n",
       "    }\n",
       "\n",
       "    .dataframe thead th {\n",
       "        text-align: right;\n",
       "    }\n",
       "</style>\n",
       "<table border=\"1\" class=\"dataframe\">\n",
       "  <thead>\n",
       "    <tr style=\"text-align: right;\">\n",
       "      <th></th>\n",
       "      <th>safegraph_place_id</th>\n",
       "      <th>parent_safegraph_place_id</th>\n",
       "      <th>location_name</th>\n",
       "      <th>safegraph_brand_ids</th>\n",
       "      <th>brands</th>\n",
       "      <th>top_category</th>\n",
       "      <th>sub_category</th>\n",
       "      <th>naics_code</th>\n",
       "      <th>latitude</th>\n",
       "      <th>longitude</th>\n",
       "      <th>street_address</th>\n",
       "      <th>city</th>\n",
       "      <th>region</th>\n",
       "      <th>postal_code</th>\n",
       "      <th>iso_country_code</th>\n",
       "      <th>phone_number</th>\n",
       "      <th>open_hours</th>\n",
       "      <th>category_tags</th>\n",
       "    </tr>\n",
       "  </thead>\n",
       "  <tbody>\n",
       "    <tr>\n",
       "      <th>0</th>\n",
       "      <td>sg:001341fe7e794ab6bd65bb80759a1ac6</td>\n",
       "      <td>NaN</td>\n",
       "      <td>Old Firehouse School</td>\n",
       "      <td>NaN</td>\n",
       "      <td>NaN</td>\n",
       "      <td>Child Day Care Services</td>\n",
       "      <td>Child Day Care Services</td>\n",
       "      <td>624410.0</td>\n",
       "      <td>37.890739</td>\n",
       "      <td>-122.118320</td>\n",
       "      <td>984 Moraga Rd</td>\n",
       "      <td>Lafayette</td>\n",
       "      <td>CA</td>\n",
       "      <td>94549</td>\n",
       "      <td>US</td>\n",
       "      <td>1.925284e+10</td>\n",
       "      <td>{ \"Mon\": [[\"8:00\", \"17:30\"]], \"Tue\": [[\"8:00\",...</td>\n",
       "      <td>NaN</td>\n",
       "    </tr>\n",
       "    <tr>\n",
       "      <th>1</th>\n",
       "      <td>sg:002921847f104c93a6df47bb831dedd2</td>\n",
       "      <td>NaN</td>\n",
       "      <td>Tenth Avenue Park</td>\n",
       "      <td>NaN</td>\n",
       "      <td>NaN</td>\n",
       "      <td>Museums, Historical Sites, and Similar Institu...</td>\n",
       "      <td>Nature Parks and Other Similar Institutions</td>\n",
       "      <td>712190.0</td>\n",
       "      <td>42.255103</td>\n",
       "      <td>-89.085241</td>\n",
       "      <td>825 10th St</td>\n",
       "      <td>Rockford</td>\n",
       "      <td>IL</td>\n",
       "      <td>61104</td>\n",
       "      <td>US</td>\n",
       "      <td>NaN</td>\n",
       "      <td>NaN</td>\n",
       "      <td>NaN</td>\n",
       "    </tr>\n",
       "    <tr>\n",
       "      <th>2</th>\n",
       "      <td>sg:002d2e9f047d47ca8661abb8939096cf</td>\n",
       "      <td>sg:ee6502a0198b432091808af9c2f69e28</td>\n",
       "      <td>Hunter Village Wines &amp; Liquors</td>\n",
       "      <td>NaN</td>\n",
       "      <td>NaN</td>\n",
       "      <td>Beer, Wine, and Liquor Stores</td>\n",
       "      <td>Beer, Wine, and Liquor Stores</td>\n",
       "      <td>445310.0</td>\n",
       "      <td>42.214633</td>\n",
       "      <td>-74.220827</td>\n",
       "      <td>7261 Rt 23a</td>\n",
       "      <td>Hunter</td>\n",
       "      <td>NY</td>\n",
       "      <td>12442</td>\n",
       "      <td>US</td>\n",
       "      <td>1.518263e+10</td>\n",
       "      <td>{ \"Mon\": [], \"Tue\": [[\"13:00\", \"18:00\"]], \"Wed...</td>\n",
       "      <td>NaN</td>\n",
       "    </tr>\n",
       "    <tr>\n",
       "      <th>3</th>\n",
       "      <td>sg:0060616e5f184585a026a0b7e8192fbd</td>\n",
       "      <td>NaN</td>\n",
       "      <td>Fat Moe's</td>\n",
       "      <td>NaN</td>\n",
       "      <td>NaN</td>\n",
       "      <td>Restaurants and Other Eating Places</td>\n",
       "      <td>Full-Service Restaurants</td>\n",
       "      <td>722511.0</td>\n",
       "      <td>40.948824</td>\n",
       "      <td>-74.154553</td>\n",
       "      <td>204 Diamond Bridge Ave</td>\n",
       "      <td>Hawthorne</td>\n",
       "      <td>NJ</td>\n",
       "      <td>7506</td>\n",
       "      <td>US</td>\n",
       "      <td>1.973949e+10</td>\n",
       "      <td>NaN</td>\n",
       "      <td>Mediterranean Food,Smoothie &amp; Juice Bar,Sandwi...</td>\n",
       "    </tr>\n",
       "    <tr>\n",
       "      <th>4</th>\n",
       "      <td>sg:0061c1d8e124406cbcc97e40eb1dd585</td>\n",
       "      <td>NaN</td>\n",
       "      <td>Jungle Rapids Family Fun Park</td>\n",
       "      <td>NaN</td>\n",
       "      <td>NaN</td>\n",
       "      <td>Amusement Parks and Arcades</td>\n",
       "      <td>Amusement and Theme Parks</td>\n",
       "      <td>713110.0</td>\n",
       "      <td>34.207249</td>\n",
       "      <td>-77.863010</td>\n",
       "      <td>5320 Oleander Dr</td>\n",
       "      <td>Wilmington</td>\n",
       "      <td>NC</td>\n",
       "      <td>28403</td>\n",
       "      <td>US</td>\n",
       "      <td>1.910791e+10</td>\n",
       "      <td>NaN</td>\n",
       "      <td>NaN</td>\n",
       "    </tr>\n",
       "  </tbody>\n",
       "</table>\n",
       "</div>"
      ],
      "text/plain": [
       "                    safegraph_place_id            parent_safegraph_place_id  \\\n",
       "0  sg:001341fe7e794ab6bd65bb80759a1ac6                                  NaN   \n",
       "1  sg:002921847f104c93a6df47bb831dedd2                                  NaN   \n",
       "2  sg:002d2e9f047d47ca8661abb8939096cf  sg:ee6502a0198b432091808af9c2f69e28   \n",
       "3  sg:0060616e5f184585a026a0b7e8192fbd                                  NaN   \n",
       "4  sg:0061c1d8e124406cbcc97e40eb1dd585                                  NaN   \n",
       "\n",
       "                    location_name safegraph_brand_ids brands  \\\n",
       "0            Old Firehouse School                 NaN    NaN   \n",
       "1               Tenth Avenue Park                 NaN    NaN   \n",
       "2  Hunter Village Wines & Liquors                 NaN    NaN   \n",
       "3                       Fat Moe's                 NaN    NaN   \n",
       "4   Jungle Rapids Family Fun Park                 NaN    NaN   \n",
       "\n",
       "                                        top_category  \\\n",
       "0                            Child Day Care Services   \n",
       "1  Museums, Historical Sites, and Similar Institu...   \n",
       "2                      Beer, Wine, and Liquor Stores   \n",
       "3                Restaurants and Other Eating Places   \n",
       "4                        Amusement Parks and Arcades   \n",
       "\n",
       "                                  sub_category  naics_code   latitude  \\\n",
       "0                      Child Day Care Services    624410.0  37.890739   \n",
       "1  Nature Parks and Other Similar Institutions    712190.0  42.255103   \n",
       "2                Beer, Wine, and Liquor Stores    445310.0  42.214633   \n",
       "3                     Full-Service Restaurants    722511.0  40.948824   \n",
       "4                    Amusement and Theme Parks    713110.0  34.207249   \n",
       "\n",
       "    longitude          street_address        city region  postal_code  \\\n",
       "0 -122.118320           984 Moraga Rd   Lafayette     CA        94549   \n",
       "1  -89.085241             825 10th St    Rockford     IL        61104   \n",
       "2  -74.220827             7261 Rt 23a      Hunter     NY        12442   \n",
       "3  -74.154553  204 Diamond Bridge Ave   Hawthorne     NJ         7506   \n",
       "4  -77.863010        5320 Oleander Dr  Wilmington     NC        28403   \n",
       "\n",
       "  iso_country_code  phone_number  \\\n",
       "0               US  1.925284e+10   \n",
       "1               US           NaN   \n",
       "2               US  1.518263e+10   \n",
       "3               US  1.973949e+10   \n",
       "4               US  1.910791e+10   \n",
       "\n",
       "                                          open_hours  \\\n",
       "0  { \"Mon\": [[\"8:00\", \"17:30\"]], \"Tue\": [[\"8:00\",...   \n",
       "1                                                NaN   \n",
       "2  { \"Mon\": [], \"Tue\": [[\"13:00\", \"18:00\"]], \"Wed...   \n",
       "3                                                NaN   \n",
       "4                                                NaN   \n",
       "\n",
       "                                       category_tags  \n",
       "0                                                NaN  \n",
       "1                                                NaN  \n",
       "2                                                NaN  \n",
       "3  Mediterranean Food,Smoothie & Juice Bar,Sandwi...  \n",
       "4                                                NaN  "
      ]
     },
     "execution_count": 110,
     "metadata": {},
     "output_type": "execute_result"
    }
   ],
   "source": [
    "d.head()"
   ]
  },
  {
   "cell_type": "code",
   "execution_count": 112,
   "metadata": {
    "ExecuteTime": {
     "end_time": "2020-05-22T23:08:05.861453Z",
     "start_time": "2020-05-22T23:08:05.772625Z"
    }
   },
   "outputs": [
    {
     "data": {
      "text/html": [
       "<div>\n",
       "<style scoped>\n",
       "    .dataframe tbody tr th:only-of-type {\n",
       "        vertical-align: middle;\n",
       "    }\n",
       "\n",
       "    .dataframe tbody tr th {\n",
       "        vertical-align: top;\n",
       "    }\n",
       "\n",
       "    .dataframe thead th {\n",
       "        text-align: right;\n",
       "    }\n",
       "</style>\n",
       "<table border=\"1\" class=\"dataframe\">\n",
       "  <thead>\n",
       "    <tr style=\"text-align: right;\">\n",
       "      <th></th>\n",
       "      <th>safegraph_brand_id</th>\n",
       "      <th>brand_name</th>\n",
       "      <th>parent_safegraph_brand_id</th>\n",
       "      <th>naics_code</th>\n",
       "      <th>top_category</th>\n",
       "      <th>sub_category</th>\n",
       "      <th>stock_symbol</th>\n",
       "      <th>stock_exchange</th>\n",
       "    </tr>\n",
       "  </thead>\n",
       "  <tbody>\n",
       "    <tr>\n",
       "      <th>0</th>\n",
       "      <td>SG_BRAND_12b20c8402b220acfe0e65dd113dbbc7</td>\n",
       "      <td>&amp;pizza</td>\n",
       "      <td>NaN</td>\n",
       "      <td>722511</td>\n",
       "      <td>Restaurants and Other Eating Places</td>\n",
       "      <td>Full-Service Restaurants</td>\n",
       "      <td>NaN</td>\n",
       "      <td>NaN</td>\n",
       "    </tr>\n",
       "    <tr>\n",
       "      <th>1</th>\n",
       "      <td>SG_BRAND_6462594f4a598a94</td>\n",
       "      <td>1 Hotels</td>\n",
       "      <td>NaN</td>\n",
       "      <td>721110</td>\n",
       "      <td>Traveler Accommodation</td>\n",
       "      <td>Hotels (except Casino Hotels) and Motels</td>\n",
       "      <td>NaN</td>\n",
       "      <td>NaN</td>\n",
       "    </tr>\n",
       "    <tr>\n",
       "      <th>2</th>\n",
       "      <td>SG_BRAND_407913c3eaadbdf961cbb276649f6618</td>\n",
       "      <td>1-800-Flowers</td>\n",
       "      <td>NaN</td>\n",
       "      <td>453110</td>\n",
       "      <td>Florists</td>\n",
       "      <td>Florists</td>\n",
       "      <td>FLWS</td>\n",
       "      <td>NASDAQ</td>\n",
       "    </tr>\n",
       "    <tr>\n",
       "      <th>3</th>\n",
       "      <td>SG_BRAND_98d0a05f33b79c60dffb8f23a236748f</td>\n",
       "      <td>10 Fitness</td>\n",
       "      <td>NaN</td>\n",
       "      <td>713940</td>\n",
       "      <td>Other Amusement and Recreation Industries</td>\n",
       "      <td>Fitness and Recreational Sports Centers</td>\n",
       "      <td>NaN</td>\n",
       "      <td>NaN</td>\n",
       "    </tr>\n",
       "    <tr>\n",
       "      <th>4</th>\n",
       "      <td>SG_BRAND_1d114312ec5fbd09</td>\n",
       "      <td>10 Gym</td>\n",
       "      <td>NaN</td>\n",
       "      <td>713940</td>\n",
       "      <td>Other Amusement and Recreation Industries</td>\n",
       "      <td>Fitness and Recreational Sports Centers</td>\n",
       "      <td>NaN</td>\n",
       "      <td>NaN</td>\n",
       "    </tr>\n",
       "  </tbody>\n",
       "</table>\n",
       "</div>"
      ],
      "text/plain": [
       "                          safegraph_brand_id     brand_name  \\\n",
       "0  SG_BRAND_12b20c8402b220acfe0e65dd113dbbc7         &pizza   \n",
       "1                  SG_BRAND_6462594f4a598a94       1 Hotels   \n",
       "2  SG_BRAND_407913c3eaadbdf961cbb276649f6618  1-800-Flowers   \n",
       "3  SG_BRAND_98d0a05f33b79c60dffb8f23a236748f     10 Fitness   \n",
       "4                  SG_BRAND_1d114312ec5fbd09         10 Gym   \n",
       "\n",
       "  parent_safegraph_brand_id  naics_code  \\\n",
       "0                       NaN      722511   \n",
       "1                       NaN      721110   \n",
       "2                       NaN      453110   \n",
       "3                       NaN      713940   \n",
       "4                       NaN      713940   \n",
       "\n",
       "                                top_category  \\\n",
       "0        Restaurants and Other Eating Places   \n",
       "1                     Traveler Accommodation   \n",
       "2                                   Florists   \n",
       "3  Other Amusement and Recreation Industries   \n",
       "4  Other Amusement and Recreation Industries   \n",
       "\n",
       "                               sub_category stock_symbol stock_exchange  \n",
       "0                  Full-Service Restaurants          NaN            NaN  \n",
       "1  Hotels (except Casino Hotels) and Motels          NaN            NaN  \n",
       "2                                  Florists         FLWS         NASDAQ  \n",
       "3   Fitness and Recreational Sports Centers          NaN            NaN  \n",
       "4   Fitness and Recreational Sports Centers          NaN            NaN  "
      ]
     },
     "execution_count": 112,
     "metadata": {},
     "output_type": "execute_result"
    }
   ],
   "source": [
    "d = pd.read_csv(placepath + 'brand_info.csv')\n",
    "d.head()"
   ]
  },
  {
   "cell_type": "markdown",
   "metadata": {},
   "source": [
    "# Core places supplement"
   ]
  },
  {
   "cell_type": "code",
   "execution_count": 114,
   "metadata": {
    "ExecuteTime": {
     "end_time": "2020-05-22T23:09:29.798952Z",
     "start_time": "2020-05-22T23:09:20.599536Z"
    }
   },
   "outputs": [
    {
     "data": {
      "text/html": [
       "<div>\n",
       "<style scoped>\n",
       "    .dataframe tbody tr th:only-of-type {\n",
       "        vertical-align: middle;\n",
       "    }\n",
       "\n",
       "    .dataframe tbody tr th {\n",
       "        vertical-align: top;\n",
       "    }\n",
       "\n",
       "    .dataframe thead th {\n",
       "        text-align: right;\n",
       "    }\n",
       "</style>\n",
       "<table border=\"1\" class=\"dataframe\">\n",
       "  <thead>\n",
       "    <tr style=\"text-align: right;\">\n",
       "      <th></th>\n",
       "      <th>safegraph_place_id</th>\n",
       "      <th>location_name</th>\n",
       "      <th>polygon_class</th>\n",
       "      <th>is_synthetic</th>\n",
       "      <th>includes_parking_lot</th>\n",
       "      <th>iso_country_code</th>\n",
       "      <th>area_square_feet</th>\n",
       "    </tr>\n",
       "  </thead>\n",
       "  <tbody>\n",
       "    <tr>\n",
       "      <th>0</th>\n",
       "      <td>sg:000190647c574858930fbf286b4e8ab8</td>\n",
       "      <td>Liberty Tax Service</td>\n",
       "      <td>SHARED_POLYGON</td>\n",
       "      <td>False</td>\n",
       "      <td>False</td>\n",
       "      <td>CA</td>\n",
       "      <td>38193</td>\n",
       "    </tr>\n",
       "    <tr>\n",
       "      <th>1</th>\n",
       "      <td>sg:001341fe7e794ab6bd65bb80759a1ac6</td>\n",
       "      <td>Old Firehouse School</td>\n",
       "      <td>OWNED_POLYGON</td>\n",
       "      <td>False</td>\n",
       "      <td>False</td>\n",
       "      <td>US</td>\n",
       "      <td>5495</td>\n",
       "    </tr>\n",
       "    <tr>\n",
       "      <th>2</th>\n",
       "      <td>sg:002921847f104c93a6df47bb831dedd2</td>\n",
       "      <td>Tenth Avenue Park</td>\n",
       "      <td>OWNED_POLYGON</td>\n",
       "      <td>False</td>\n",
       "      <td>NaN</td>\n",
       "      <td>US</td>\n",
       "      <td>388046</td>\n",
       "    </tr>\n",
       "    <tr>\n",
       "      <th>3</th>\n",
       "      <td>sg:002d2e9f047d47ca8661abb8939096cf</td>\n",
       "      <td>Hunter Village Wines &amp; Liquors</td>\n",
       "      <td>SHARED_POLYGON</td>\n",
       "      <td>False</td>\n",
       "      <td>False</td>\n",
       "      <td>US</td>\n",
       "      <td>687</td>\n",
       "    </tr>\n",
       "    <tr>\n",
       "      <th>4</th>\n",
       "      <td>sg:0060616e5f184585a026a0b7e8192fbd</td>\n",
       "      <td>Fat Moe's</td>\n",
       "      <td>SHARED_POLYGON</td>\n",
       "      <td>False</td>\n",
       "      <td>False</td>\n",
       "      <td>US</td>\n",
       "      <td>10925</td>\n",
       "    </tr>\n",
       "  </tbody>\n",
       "</table>\n",
       "</div>"
      ],
      "text/plain": [
       "                    safegraph_place_id                   location_name  \\\n",
       "0  sg:000190647c574858930fbf286b4e8ab8             Liberty Tax Service   \n",
       "1  sg:001341fe7e794ab6bd65bb80759a1ac6            Old Firehouse School   \n",
       "2  sg:002921847f104c93a6df47bb831dedd2               Tenth Avenue Park   \n",
       "3  sg:002d2e9f047d47ca8661abb8939096cf  Hunter Village Wines & Liquors   \n",
       "4  sg:0060616e5f184585a026a0b7e8192fbd                       Fat Moe's   \n",
       "\n",
       "    polygon_class  is_synthetic includes_parking_lot iso_country_code  \\\n",
       "0  SHARED_POLYGON         False                False               CA   \n",
       "1   OWNED_POLYGON         False                False               US   \n",
       "2   OWNED_POLYGON         False                  NaN               US   \n",
       "3  SHARED_POLYGON         False                False               US   \n",
       "4  SHARED_POLYGON         False                False               US   \n",
       "\n",
       "   area_square_feet  \n",
       "0             38193  \n",
       "1              5495  \n",
       "2            388046  \n",
       "3               687  \n",
       "4             10925  "
      ]
     },
     "execution_count": 114,
     "metadata": {},
     "output_type": "execute_result"
    }
   ],
   "source": [
    "placesuppath = 'D://safegraph/'\n",
    "d = pd.read_csv(placesuppath+'corepoi_sup.csv.gz')\n",
    "d.head() # sqft of venue"
   ]
  },
  {
   "cell_type": "markdown",
   "metadata": {},
   "source": [
    "# Open census"
   ]
  },
  {
   "cell_type": "code",
   "execution_count": 119,
   "metadata": {
    "ExecuteTime": {
     "end_time": "2020-05-22T23:17:15.104279Z",
     "start_time": "2020-05-22T23:17:15.099293Z"
    },
    "scrolled": true
   },
   "outputs": [
    {
     "data": {
      "text/plain": [
       "(['.DS_Store',\n",
       "  '._.DS_Store',\n",
       "  '._data',\n",
       "  '._geometry',\n",
       "  '._metadata',\n",
       "  'data',\n",
       "  'geometry',\n",
       "  'metadata'],\n",
       " ['._cbg_b00.csv',\n",
       "  '._cbg_b01.csv',\n",
       "  '._cbg_b02.csv',\n",
       "  '._cbg_b03.csv',\n",
       "  '._cbg_b07.csv',\n",
       "  '._cbg_b08.csv',\n",
       "  '._cbg_b09.csv',\n",
       "  '._cbg_b11.csv',\n",
       "  '._cbg_b12.csv',\n",
       "  '._cbg_b14.csv',\n",
       "  '._cbg_b15.csv',\n",
       "  '._cbg_b19.csv',\n",
       "  '._cbg_b20.csv',\n",
       "  '._cbg_b21.csv',\n",
       "  '._cbg_b22.csv',\n",
       "  '._cbg_b23.csv',\n",
       "  '._cbg_b25.csv',\n",
       "  '._cbg_b27.csv',\n",
       "  '._cbg_b99.csv',\n",
       "  '._cbg_c16.csv',\n",
       "  '._cbg_c17.csv',\n",
       "  '._cbg_c24.csv',\n",
       "  '._cbg_patterns.csv',\n",
       "  'cbg_b00.csv',\n",
       "  'cbg_b01.csv',\n",
       "  'cbg_b02.csv',\n",
       "  'cbg_b03.csv',\n",
       "  'cbg_b07.csv',\n",
       "  'cbg_b08.csv',\n",
       "  'cbg_b09.csv',\n",
       "  'cbg_b11.csv',\n",
       "  'cbg_b12.csv',\n",
       "  'cbg_b14.csv',\n",
       "  'cbg_b15.csv',\n",
       "  'cbg_b19.csv',\n",
       "  'cbg_b20.csv',\n",
       "  'cbg_b21.csv',\n",
       "  'cbg_b22.csv',\n",
       "  'cbg_b23.csv',\n",
       "  'cbg_b25.csv',\n",
       "  'cbg_b27.csv',\n",
       "  'cbg_b99.csv',\n",
       "  'cbg_c16.csv',\n",
       "  'cbg_c17.csv',\n",
       "  'cbg_c24.csv',\n",
       "  'cbg_patterns.csv'],\n",
       " ['.DS_Store', '._.DS_Store', '._cbg.geojson', 'cbg.geojson'])"
      ]
     },
     "execution_count": 119,
     "metadata": {},
     "output_type": "execute_result"
    }
   ],
   "source": [
    "censuspath = 'D://safegraph/open_census/safegraph_open_census_data/'\n",
    "os.listdir(censuspath),os.listdir(censuspath+'data/'), os.listdir(censuspath+'geometry/') "
   ]
  },
  {
   "cell_type": "code",
   "execution_count": 122,
   "metadata": {
    "ExecuteTime": {
     "end_time": "2020-05-22T23:18:05.995320Z",
     "start_time": "2020-05-22T23:18:05.983395Z"
    }
   },
   "outputs": [
    {
     "data": {
      "text/html": [
       "<div>\n",
       "<style scoped>\n",
       "    .dataframe tbody tr th:only-of-type {\n",
       "        vertical-align: middle;\n",
       "    }\n",
       "\n",
       "    .dataframe tbody tr th {\n",
       "        vertical-align: top;\n",
       "    }\n",
       "\n",
       "    .dataframe thead th {\n",
       "        text-align: right;\n",
       "    }\n",
       "</style>\n",
       "<table border=\"1\" class=\"dataframe\">\n",
       "  <thead>\n",
       "    <tr style=\"text-align: right;\">\n",
       "      <th></th>\n",
       "      <th>census_block_group</th>\n",
       "      <th>C24010e1</th>\n",
       "      <th>C24010m1</th>\n",
       "      <th>C24010e2</th>\n",
       "      <th>C24010m2</th>\n",
       "      <th>C24010e3</th>\n",
       "      <th>C24010m3</th>\n",
       "      <th>C24010e4</th>\n",
       "      <th>C24010m4</th>\n",
       "      <th>C24010e5</th>\n",
       "      <th>...</th>\n",
       "      <th>B24080e17</th>\n",
       "      <th>B24080m17</th>\n",
       "      <th>B24080e18</th>\n",
       "      <th>B24080m18</th>\n",
       "      <th>B24080e19</th>\n",
       "      <th>B24080m19</th>\n",
       "      <th>B24080e20</th>\n",
       "      <th>B24080m20</th>\n",
       "      <th>B24080e21</th>\n",
       "      <th>B24080m21</th>\n",
       "    </tr>\n",
       "  </thead>\n",
       "  <tbody>\n",
       "    <tr>\n",
       "      <th>0</th>\n",
       "      <td>10010201001</td>\n",
       "      <td>301</td>\n",
       "      <td>96</td>\n",
       "      <td>139</td>\n",
       "      <td>56</td>\n",
       "      <td>38</td>\n",
       "      <td>26</td>\n",
       "      <td>28</td>\n",
       "      <td>28</td>\n",
       "      <td>23</td>\n",
       "      <td>...</td>\n",
       "      <td>6</td>\n",
       "      <td>9</td>\n",
       "      <td>0</td>\n",
       "      <td>11</td>\n",
       "      <td>6</td>\n",
       "      <td>9</td>\n",
       "      <td>16</td>\n",
       "      <td>24</td>\n",
       "      <td>0</td>\n",
       "      <td>11</td>\n",
       "    </tr>\n",
       "    <tr>\n",
       "      <th>1</th>\n",
       "      <td>10010201002</td>\n",
       "      <td>683</td>\n",
       "      <td>144</td>\n",
       "      <td>376</td>\n",
       "      <td>99</td>\n",
       "      <td>86</td>\n",
       "      <td>45</td>\n",
       "      <td>52</td>\n",
       "      <td>42</td>\n",
       "      <td>46</td>\n",
       "      <td>...</td>\n",
       "      <td>14</td>\n",
       "      <td>23</td>\n",
       "      <td>32</td>\n",
       "      <td>17</td>\n",
       "      <td>24</td>\n",
       "      <td>16</td>\n",
       "      <td>5</td>\n",
       "      <td>7</td>\n",
       "      <td>0</td>\n",
       "      <td>11</td>\n",
       "    </tr>\n",
       "    <tr>\n",
       "      <th>2</th>\n",
       "      <td>10010202001</td>\n",
       "      <td>330</td>\n",
       "      <td>148</td>\n",
       "      <td>189</td>\n",
       "      <td>104</td>\n",
       "      <td>44</td>\n",
       "      <td>36</td>\n",
       "      <td>28</td>\n",
       "      <td>35</td>\n",
       "      <td>28</td>\n",
       "      <td>...</td>\n",
       "      <td>0</td>\n",
       "      <td>11</td>\n",
       "      <td>39</td>\n",
       "      <td>39</td>\n",
       "      <td>0</td>\n",
       "      <td>11</td>\n",
       "      <td>0</td>\n",
       "      <td>11</td>\n",
       "      <td>0</td>\n",
       "      <td>11</td>\n",
       "    </tr>\n",
       "    <tr>\n",
       "      <th>3</th>\n",
       "      <td>10010202002</td>\n",
       "      <td>527</td>\n",
       "      <td>135</td>\n",
       "      <td>233</td>\n",
       "      <td>63</td>\n",
       "      <td>84</td>\n",
       "      <td>47</td>\n",
       "      <td>34</td>\n",
       "      <td>28</td>\n",
       "      <td>15</td>\n",
       "      <td>...</td>\n",
       "      <td>6</td>\n",
       "      <td>10</td>\n",
       "      <td>29</td>\n",
       "      <td>28</td>\n",
       "      <td>0</td>\n",
       "      <td>11</td>\n",
       "      <td>50</td>\n",
       "      <td>69</td>\n",
       "      <td>0</td>\n",
       "      <td>11</td>\n",
       "    </tr>\n",
       "    <tr>\n",
       "      <th>4</th>\n",
       "      <td>10010203001</td>\n",
       "      <td>1115</td>\n",
       "      <td>199</td>\n",
       "      <td>544</td>\n",
       "      <td>128</td>\n",
       "      <td>88</td>\n",
       "      <td>50</td>\n",
       "      <td>43</td>\n",
       "      <td>35</td>\n",
       "      <td>32</td>\n",
       "      <td>...</td>\n",
       "      <td>28</td>\n",
       "      <td>26</td>\n",
       "      <td>44</td>\n",
       "      <td>29</td>\n",
       "      <td>30</td>\n",
       "      <td>36</td>\n",
       "      <td>73</td>\n",
       "      <td>68</td>\n",
       "      <td>0</td>\n",
       "      <td>11</td>\n",
       "    </tr>\n",
       "  </tbody>\n",
       "</table>\n",
       "<p>5 rows × 679 columns</p>\n",
       "</div>"
      ],
      "text/plain": [
       "   census_block_group  C24010e1  C24010m1  C24010e2  C24010m2  C24010e3  \\\n",
       "0         10010201001       301        96       139        56        38   \n",
       "1         10010201002       683       144       376        99        86   \n",
       "2         10010202001       330       148       189       104        44   \n",
       "3         10010202002       527       135       233        63        84   \n",
       "4         10010203001      1115       199       544       128        88   \n",
       "\n",
       "   C24010m3  C24010e4  C24010m4  C24010e5  ...  B24080e17  B24080m17  \\\n",
       "0        26        28        28        23  ...          6          9   \n",
       "1        45        52        42        46  ...         14         23   \n",
       "2        36        28        35        28  ...          0         11   \n",
       "3        47        34        28        15  ...          6         10   \n",
       "4        50        43        35        32  ...         28         26   \n",
       "\n",
       "   B24080e18  B24080m18  B24080e19  B24080m19  B24080e20  B24080m20  \\\n",
       "0          0         11          6          9         16         24   \n",
       "1         32         17         24         16          5          7   \n",
       "2         39         39          0         11          0         11   \n",
       "3         29         28          0         11         50         69   \n",
       "4         44         29         30         36         73         68   \n",
       "\n",
       "   B24080e21  B24080m21  \n",
       "0          0         11  \n",
       "1          0         11  \n",
       "2          0         11  \n",
       "3          0         11  \n",
       "4          0         11  \n",
       "\n",
       "[5 rows x 679 columns]"
      ]
     },
     "execution_count": 122,
     "metadata": {},
     "output_type": "execute_result"
    }
   ],
   "source": [
    "d = pd.read_csv(censuspath + 'data/cbg_c24.csv')\n",
    "d.head()"
   ]
  },
  {
   "cell_type": "code",
   "execution_count": null,
   "metadata": {},
   "outputs": [],
   "source": []
  },
  {
   "cell_type": "code",
   "execution_count": 123,
   "metadata": {
    "ExecuteTime": {
     "end_time": "2020-05-22T23:18:18.643572Z",
     "start_time": "2020-05-22T23:18:16.587916Z"
    }
   },
   "outputs": [
    {
     "data": {
      "text/html": [
       "<div>\n",
       "<style scoped>\n",
       "    .dataframe tbody tr th:only-of-type {\n",
       "        vertical-align: middle;\n",
       "    }\n",
       "\n",
       "    .dataframe tbody tr th {\n",
       "        vertical-align: top;\n",
       "    }\n",
       "\n",
       "    .dataframe thead th {\n",
       "        text-align: right;\n",
       "    }\n",
       "</style>\n",
       "<table border=\"1\" class=\"dataframe\">\n",
       "  <thead>\n",
       "    <tr style=\"text-align: right;\">\n",
       "      <th></th>\n",
       "      <th>census_block_group</th>\n",
       "      <th>date_range_start</th>\n",
       "      <th>date_range_end</th>\n",
       "      <th>raw_visit_count</th>\n",
       "      <th>raw_visitor_count</th>\n",
       "      <th>visitor_home_cbgs</th>\n",
       "      <th>visitor_work_cbgs</th>\n",
       "      <th>distance_from_home</th>\n",
       "      <th>related_same_day_brand</th>\n",
       "      <th>related_same_month_brand</th>\n",
       "      <th>top_brands</th>\n",
       "      <th>popularity_by_hour</th>\n",
       "      <th>popularity_by_day</th>\n",
       "    </tr>\n",
       "  </thead>\n",
       "  <tbody>\n",
       "    <tr>\n",
       "      <th>0</th>\n",
       "      <td>1.005951e+10</td>\n",
       "      <td>1538352000</td>\n",
       "      <td>1541030400</td>\n",
       "      <td>75122.0</td>\n",
       "      <td>18314.0</td>\n",
       "      <td>{\"010059501003\":127,\"010059509001\":111,\"010059...</td>\n",
       "      <td>{\"010059501003\":109,\"010810407002\":62,\"0108104...</td>\n",
       "      <td>194724.0</td>\n",
       "      <td>[\"Chick-fil-A\",\"mcdonalds\",\"Marathon Petroleum...</td>\n",
       "      <td>[\"walmart\",\"mcdonalds\",\"Dollar General\",\"Chick...</td>\n",
       "      <td>[\"CrossFit\",\"Health Mart\",\"Coldwell Banker\"]</td>\n",
       "      <td>[2617,2457,2403,2519,2646,3007,3886,7566,5508,...</td>\n",
       "      <td>{\"Monday\":12000,\"Tuesday\":12224,\"Wednesday\":10...</td>\n",
       "    </tr>\n",
       "    <tr>\n",
       "      <th>1</th>\n",
       "      <td>1.009051e+10</td>\n",
       "      <td>1538352000</td>\n",
       "      <td>1541030400</td>\n",
       "      <td>95649.0</td>\n",
       "      <td>38942.0</td>\n",
       "      <td>{\"010730113021\":210,\"010090506022\":205,\"010090...</td>\n",
       "      <td>{\"010890111001\":271,\"010730045001\":269,\"010439...</td>\n",
       "      <td>120587.0</td>\n",
       "      <td>[\"Shell Oil\",\"mcdonalds\",\"Chick-fil-A\",\"Chevron\"]</td>\n",
       "      <td>[\"walmart\",\"mcdonalds\",\"Shell Oil\",\"Chick-fil-...</td>\n",
       "      <td>[]</td>\n",
       "      <td>[6556,6325,6222,6355,6586,7350,8568,8099,7378,...</td>\n",
       "      <td>{\"Monday\":12125,\"Tuesday\":12984,\"Wednesday\":12...</td>\n",
       "    </tr>\n",
       "    <tr>\n",
       "      <th>2</th>\n",
       "      <td>1.047957e+10</td>\n",
       "      <td>1538352000</td>\n",
       "      <td>1541030400</td>\n",
       "      <td>14009.0</td>\n",
       "      <td>3039.0</td>\n",
       "      <td>{\"010479567011\":67,\"010479567021\":60}</td>\n",
       "      <td>{\"010479567021\":52}</td>\n",
       "      <td>67774.0</td>\n",
       "      <td>[\"Dollar General\"]</td>\n",
       "      <td>[\"walmart\",\"Dollar General\",\"mcdonalds\",\"Chevr...</td>\n",
       "      <td>[\"Dollar General\"]</td>\n",
       "      <td>[807,790,796,786,851,951,1134,1797,1355,1241,1...</td>\n",
       "      <td>{\"Monday\":2314,\"Tuesday\":2340,\"Wednesday\":2195...</td>\n",
       "    </tr>\n",
       "    <tr>\n",
       "      <th>3</th>\n",
       "      <td>1.069040e+10</td>\n",
       "      <td>1538352000</td>\n",
       "      <td>1541030400</td>\n",
       "      <td>128169.0</td>\n",
       "      <td>25418.0</td>\n",
       "      <td>{\"010690402013\":370,\"010690402011\":322,\"010690...</td>\n",
       "      <td>{\"010690402024\":313,\"010690415004\":203,\"010450...</td>\n",
       "      <td>42684.0</td>\n",
       "      <td>[\"Chick-fil-A\",\"Sam's Club\",\"Dollar General\",\"...</td>\n",
       "      <td>[\"walmart\",\"Dollar General\",\"mcdonalds\",\"Marat...</td>\n",
       "      <td>[\"Chick-fil-A\",\"Sam's Club\",\"Olive Garden\",\"mc...</td>\n",
       "      <td>[2121,1828,1784,1704,1861,2373,3730,7497,7093,...</td>\n",
       "      <td>{\"Monday\":21141,\"Tuesday\":21143,\"Wednesday\":17...</td>\n",
       "    </tr>\n",
       "    <tr>\n",
       "      <th>4</th>\n",
       "      <td>1.073011e+10</td>\n",
       "      <td>1538352000</td>\n",
       "      <td>1541030400</td>\n",
       "      <td>51453.0</td>\n",
       "      <td>9499.0</td>\n",
       "      <td>{\"010090507001\":183,\"010730113021\":167,\"010730...</td>\n",
       "      <td>{\"010730045001\":140,\"010730027001\":123,\"010730...</td>\n",
       "      <td>18878.0</td>\n",
       "      <td>[\"Chevron\",\"Daylight Donuts\",\"walmart\"]</td>\n",
       "      <td>[\"walmart\",\"Chevron\",\"Dollar General\",\"Shell O...</td>\n",
       "      <td>[\"Chevron\",\"CrossFit\"]</td>\n",
       "      <td>[3804,3716,3686,3672,3735,4115,4855,5946,4526,...</td>\n",
       "      <td>{\"Monday\":8402,\"Tuesday\":8414,\"Wednesday\":8550...</td>\n",
       "    </tr>\n",
       "  </tbody>\n",
       "</table>\n",
       "</div>"
      ],
      "text/plain": [
       "   census_block_group  date_range_start  date_range_end  raw_visit_count  \\\n",
       "0        1.005951e+10        1538352000      1541030400          75122.0   \n",
       "1        1.009051e+10        1538352000      1541030400          95649.0   \n",
       "2        1.047957e+10        1538352000      1541030400          14009.0   \n",
       "3        1.069040e+10        1538352000      1541030400         128169.0   \n",
       "4        1.073011e+10        1538352000      1541030400          51453.0   \n",
       "\n",
       "   raw_visitor_count                                  visitor_home_cbgs  \\\n",
       "0            18314.0  {\"010059501003\":127,\"010059509001\":111,\"010059...   \n",
       "1            38942.0  {\"010730113021\":210,\"010090506022\":205,\"010090...   \n",
       "2             3039.0              {\"010479567011\":67,\"010479567021\":60}   \n",
       "3            25418.0  {\"010690402013\":370,\"010690402011\":322,\"010690...   \n",
       "4             9499.0  {\"010090507001\":183,\"010730113021\":167,\"010730...   \n",
       "\n",
       "                                   visitor_work_cbgs  distance_from_home  \\\n",
       "0  {\"010059501003\":109,\"010810407002\":62,\"0108104...            194724.0   \n",
       "1  {\"010890111001\":271,\"010730045001\":269,\"010439...            120587.0   \n",
       "2                                {\"010479567021\":52}             67774.0   \n",
       "3  {\"010690402024\":313,\"010690415004\":203,\"010450...             42684.0   \n",
       "4  {\"010730045001\":140,\"010730027001\":123,\"010730...             18878.0   \n",
       "\n",
       "                              related_same_day_brand  \\\n",
       "0  [\"Chick-fil-A\",\"mcdonalds\",\"Marathon Petroleum...   \n",
       "1  [\"Shell Oil\",\"mcdonalds\",\"Chick-fil-A\",\"Chevron\"]   \n",
       "2                                 [\"Dollar General\"]   \n",
       "3  [\"Chick-fil-A\",\"Sam's Club\",\"Dollar General\",\"...   \n",
       "4            [\"Chevron\",\"Daylight Donuts\",\"walmart\"]   \n",
       "\n",
       "                            related_same_month_brand  \\\n",
       "0  [\"walmart\",\"mcdonalds\",\"Dollar General\",\"Chick...   \n",
       "1  [\"walmart\",\"mcdonalds\",\"Shell Oil\",\"Chick-fil-...   \n",
       "2  [\"walmart\",\"Dollar General\",\"mcdonalds\",\"Chevr...   \n",
       "3  [\"walmart\",\"Dollar General\",\"mcdonalds\",\"Marat...   \n",
       "4  [\"walmart\",\"Chevron\",\"Dollar General\",\"Shell O...   \n",
       "\n",
       "                                          top_brands  \\\n",
       "0       [\"CrossFit\",\"Health Mart\",\"Coldwell Banker\"]   \n",
       "1                                                 []   \n",
       "2                                 [\"Dollar General\"]   \n",
       "3  [\"Chick-fil-A\",\"Sam's Club\",\"Olive Garden\",\"mc...   \n",
       "4                             [\"Chevron\",\"CrossFit\"]   \n",
       "\n",
       "                                  popularity_by_hour  \\\n",
       "0  [2617,2457,2403,2519,2646,3007,3886,7566,5508,...   \n",
       "1  [6556,6325,6222,6355,6586,7350,8568,8099,7378,...   \n",
       "2  [807,790,796,786,851,951,1134,1797,1355,1241,1...   \n",
       "3  [2121,1828,1784,1704,1861,2373,3730,7497,7093,...   \n",
       "4  [3804,3716,3686,3672,3735,4115,4855,5946,4526,...   \n",
       "\n",
       "                                   popularity_by_day  \n",
       "0  {\"Monday\":12000,\"Tuesday\":12224,\"Wednesday\":10...  \n",
       "1  {\"Monday\":12125,\"Tuesday\":12984,\"Wednesday\":12...  \n",
       "2  {\"Monday\":2314,\"Tuesday\":2340,\"Wednesday\":2195...  \n",
       "3  {\"Monday\":21141,\"Tuesday\":21143,\"Wednesday\":17...  \n",
       "4  {\"Monday\":8402,\"Tuesday\":8414,\"Wednesday\":8550...  "
      ]
     },
     "execution_count": 123,
     "metadata": {},
     "output_type": "execute_result"
    }
   ],
   "source": [
    "d = pd.read_csv(censuspath + 'data/cbg_patterns.csv') # summary of visits\n",
    "d.head()"
   ]
  },
  {
   "cell_type": "code",
   "execution_count": 134,
   "metadata": {
    "ExecuteTime": {
     "end_time": "2020-05-22T23:41:53.466523Z",
     "start_time": "2020-05-22T23:41:53.427598Z"
    }
   },
   "outputs": [
    {
     "data": {
      "text/html": [
       "<div>\n",
       "<style scoped>\n",
       "    .dataframe tbody tr th:only-of-type {\n",
       "        vertical-align: middle;\n",
       "    }\n",
       "\n",
       "    .dataframe tbody tr th {\n",
       "        vertical-align: top;\n",
       "    }\n",
       "\n",
       "    .dataframe thead th {\n",
       "        text-align: right;\n",
       "    }\n",
       "</style>\n",
       "<table border=\"1\" class=\"dataframe\">\n",
       "  <thead>\n",
       "    <tr style=\"text-align: right;\">\n",
       "      <th></th>\n",
       "      <th>table_id</th>\n",
       "      <th>field_full_name</th>\n",
       "      <th>field_level_1</th>\n",
       "      <th>field_level_2</th>\n",
       "      <th>field_level_3</th>\n",
       "      <th>field_level_4</th>\n",
       "      <th>field_level_5</th>\n",
       "      <th>field_level_6</th>\n",
       "      <th>field_level_7</th>\n",
       "      <th>field_level_8</th>\n",
       "    </tr>\n",
       "  </thead>\n",
       "  <tbody>\n",
       "    <tr>\n",
       "      <th>0</th>\n",
       "      <td>B00001e1</td>\n",
       "      <td>UNWEIGHTED SAMPLE COUNT OF THE POPULATION: Tot...</td>\n",
       "      <td>Unweighted Sample Count Of The Population</td>\n",
       "      <td>Total</td>\n",
       "      <td>Total Population -- (Estimate)</td>\n",
       "      <td>NaN</td>\n",
       "      <td>NaN</td>\n",
       "      <td>NaN</td>\n",
       "      <td>NaN</td>\n",
       "      <td>NaN</td>\n",
       "    </tr>\n",
       "    <tr>\n",
       "      <th>1</th>\n",
       "      <td>B00001m1</td>\n",
       "      <td>UNWEIGHTED SAMPLE COUNT OF THE POPULATION: Tot...</td>\n",
       "      <td>Unweighted Sample Count Of The Population</td>\n",
       "      <td>Total</td>\n",
       "      <td>Total Population -- (Margin Of Error)</td>\n",
       "      <td>NaN</td>\n",
       "      <td>NaN</td>\n",
       "      <td>NaN</td>\n",
       "      <td>NaN</td>\n",
       "      <td>NaN</td>\n",
       "    </tr>\n",
       "    <tr>\n",
       "      <th>2</th>\n",
       "      <td>B00002e1</td>\n",
       "      <td>UNWEIGHTED SAMPLE HOUSING UNITS: Total: Housin...</td>\n",
       "      <td>Unweighted Sample Housing Units</td>\n",
       "      <td>Total</td>\n",
       "      <td>Housing Units -- (Estimate)</td>\n",
       "      <td>NaN</td>\n",
       "      <td>NaN</td>\n",
       "      <td>NaN</td>\n",
       "      <td>NaN</td>\n",
       "      <td>NaN</td>\n",
       "    </tr>\n",
       "    <tr>\n",
       "      <th>3</th>\n",
       "      <td>B00002m1</td>\n",
       "      <td>UNWEIGHTED SAMPLE HOUSING UNITS: Total: Housin...</td>\n",
       "      <td>Unweighted Sample Housing Units</td>\n",
       "      <td>Total</td>\n",
       "      <td>Housing Units -- (Margin Of Error)</td>\n",
       "      <td>NaN</td>\n",
       "      <td>NaN</td>\n",
       "      <td>NaN</td>\n",
       "      <td>NaN</td>\n",
       "      <td>NaN</td>\n",
       "    </tr>\n",
       "    <tr>\n",
       "      <th>4</th>\n",
       "      <td>B01001e1</td>\n",
       "      <td>SEX BY AGE: Total: Total population -- (Estimate)</td>\n",
       "      <td>Sex By Age</td>\n",
       "      <td>Total</td>\n",
       "      <td>Total Population -- (Estimate)</td>\n",
       "      <td>NaN</td>\n",
       "      <td>NaN</td>\n",
       "      <td>NaN</td>\n",
       "      <td>NaN</td>\n",
       "      <td>NaN</td>\n",
       "    </tr>\n",
       "  </tbody>\n",
       "</table>\n",
       "</div>"
      ],
      "text/plain": [
       "   table_id                                    field_full_name  \\\n",
       "0  B00001e1  UNWEIGHTED SAMPLE COUNT OF THE POPULATION: Tot...   \n",
       "1  B00001m1  UNWEIGHTED SAMPLE COUNT OF THE POPULATION: Tot...   \n",
       "2  B00002e1  UNWEIGHTED SAMPLE HOUSING UNITS: Total: Housin...   \n",
       "3  B00002m1  UNWEIGHTED SAMPLE HOUSING UNITS: Total: Housin...   \n",
       "4  B01001e1  SEX BY AGE: Total: Total population -- (Estimate)   \n",
       "\n",
       "                               field_level_1 field_level_2  \\\n",
       "0  Unweighted Sample Count Of The Population         Total   \n",
       "1  Unweighted Sample Count Of The Population         Total   \n",
       "2            Unweighted Sample Housing Units         Total   \n",
       "3            Unweighted Sample Housing Units         Total   \n",
       "4                                 Sex By Age         Total   \n",
       "\n",
       "                            field_level_3 field_level_4 field_level_5  \\\n",
       "0          Total Population -- (Estimate)           NaN           NaN   \n",
       "1   Total Population -- (Margin Of Error)           NaN           NaN   \n",
       "2             Housing Units -- (Estimate)           NaN           NaN   \n",
       "3      Housing Units -- (Margin Of Error)           NaN           NaN   \n",
       "4          Total Population -- (Estimate)           NaN           NaN   \n",
       "\n",
       "  field_level_6 field_level_7 field_level_8  \n",
       "0           NaN           NaN           NaN  \n",
       "1           NaN           NaN           NaN  \n",
       "2           NaN           NaN           NaN  \n",
       "3           NaN           NaN           NaN  \n",
       "4           NaN           NaN           NaN  "
      ]
     },
     "execution_count": 134,
     "metadata": {},
     "output_type": "execute_result"
    }
   ],
   "source": [
    "d = pd.read_csv(censuspath + 'metadata/cbg_field_descriptions.csv')\n",
    "d.head()"
   ]
  },
  {
   "cell_type": "code",
   "execution_count": 136,
   "metadata": {
    "ExecuteTime": {
     "end_time": "2020-05-22T23:42:09.592698Z",
     "start_time": "2020-05-22T23:42:09.578735Z"
    }
   },
   "outputs": [
    {
     "data": {
      "text/html": [
       "<div>\n",
       "<style scoped>\n",
       "    .dataframe tbody tr th:only-of-type {\n",
       "        vertical-align: middle;\n",
       "    }\n",
       "\n",
       "    .dataframe tbody tr th {\n",
       "        vertical-align: top;\n",
       "    }\n",
       "\n",
       "    .dataframe thead th {\n",
       "        text-align: right;\n",
       "    }\n",
       "</style>\n",
       "<table border=\"1\" class=\"dataframe\">\n",
       "  <thead>\n",
       "    <tr style=\"text-align: right;\">\n",
       "      <th></th>\n",
       "      <th>state</th>\n",
       "      <th>state_fips</th>\n",
       "      <th>county_fips</th>\n",
       "      <th>county</th>\n",
       "      <th>class_code</th>\n",
       "    </tr>\n",
       "  </thead>\n",
       "  <tbody>\n",
       "    <tr>\n",
       "      <th>0</th>\n",
       "      <td>AL</td>\n",
       "      <td>1</td>\n",
       "      <td>1</td>\n",
       "      <td>Autauga County</td>\n",
       "      <td>H1</td>\n",
       "    </tr>\n",
       "    <tr>\n",
       "      <th>1</th>\n",
       "      <td>AL</td>\n",
       "      <td>1</td>\n",
       "      <td>3</td>\n",
       "      <td>Baldwin County</td>\n",
       "      <td>H1</td>\n",
       "    </tr>\n",
       "    <tr>\n",
       "      <th>2</th>\n",
       "      <td>AL</td>\n",
       "      <td>1</td>\n",
       "      <td>5</td>\n",
       "      <td>Barbour County</td>\n",
       "      <td>H1</td>\n",
       "    </tr>\n",
       "    <tr>\n",
       "      <th>3</th>\n",
       "      <td>AL</td>\n",
       "      <td>1</td>\n",
       "      <td>7</td>\n",
       "      <td>Bibb County</td>\n",
       "      <td>H1</td>\n",
       "    </tr>\n",
       "    <tr>\n",
       "      <th>4</th>\n",
       "      <td>AL</td>\n",
       "      <td>1</td>\n",
       "      <td>9</td>\n",
       "      <td>Blount County</td>\n",
       "      <td>H1</td>\n",
       "    </tr>\n",
       "  </tbody>\n",
       "</table>\n",
       "</div>"
      ],
      "text/plain": [
       "  state  state_fips  county_fips          county class_code\n",
       "0    AL           1            1  Autauga County         H1\n",
       "1    AL           1            3  Baldwin County         H1\n",
       "2    AL           1            5  Barbour County         H1\n",
       "3    AL           1            7     Bibb County         H1\n",
       "4    AL           1            9   Blount County         H1"
      ]
     },
     "execution_count": 136,
     "metadata": {},
     "output_type": "execute_result"
    }
   ],
   "source": [
    "d = pd.read_csv(censuspath + 'metadata/cbg_fips_codes.csv')\n",
    "d.head()"
   ]
  },
  {
   "cell_type": "code",
   "execution_count": 137,
   "metadata": {
    "ExecuteTime": {
     "end_time": "2020-05-22T23:42:18.196593Z",
     "start_time": "2020-05-22T23:42:18.096802Z"
    }
   },
   "outputs": [
    {
     "data": {
      "text/html": [
       "<div>\n",
       "<style scoped>\n",
       "    .dataframe tbody tr th:only-of-type {\n",
       "        vertical-align: middle;\n",
       "    }\n",
       "\n",
       "    .dataframe tbody tr th {\n",
       "        vertical-align: top;\n",
       "    }\n",
       "\n",
       "    .dataframe thead th {\n",
       "        text-align: right;\n",
       "    }\n",
       "</style>\n",
       "<table border=\"1\" class=\"dataframe\">\n",
       "  <thead>\n",
       "    <tr style=\"text-align: right;\">\n",
       "      <th></th>\n",
       "      <th>census_block_group</th>\n",
       "      <th>amount_land</th>\n",
       "      <th>amount_water</th>\n",
       "      <th>latitude</th>\n",
       "      <th>longitude</th>\n",
       "    </tr>\n",
       "  </thead>\n",
       "  <tbody>\n",
       "    <tr>\n",
       "      <th>0</th>\n",
       "      <td>10010201001</td>\n",
       "      <td>4254524.0</td>\n",
       "      <td>23431</td>\n",
       "      <td>32.465829</td>\n",
       "      <td>-86.489614</td>\n",
       "    </tr>\n",
       "    <tr>\n",
       "      <th>1</th>\n",
       "      <td>10010201002</td>\n",
       "      <td>5568295.0</td>\n",
       "      <td>0</td>\n",
       "      <td>32.485849</td>\n",
       "      <td>-86.489690</td>\n",
       "    </tr>\n",
       "    <tr>\n",
       "      <th>2</th>\n",
       "      <td>10010202001</td>\n",
       "      <td>2058380.0</td>\n",
       "      <td>0</td>\n",
       "      <td>32.480082</td>\n",
       "      <td>-86.474974</td>\n",
       "    </tr>\n",
       "    <tr>\n",
       "      <th>3</th>\n",
       "      <td>10010202002</td>\n",
       "      <td>1283506.0</td>\n",
       "      <td>5968</td>\n",
       "      <td>32.464435</td>\n",
       "      <td>-86.469766</td>\n",
       "    </tr>\n",
       "    <tr>\n",
       "      <th>4</th>\n",
       "      <td>10010203001</td>\n",
       "      <td>3866515.0</td>\n",
       "      <td>9054</td>\n",
       "      <td>32.480175</td>\n",
       "      <td>-86.460793</td>\n",
       "    </tr>\n",
       "  </tbody>\n",
       "</table>\n",
       "</div>"
      ],
      "text/plain": [
       "   census_block_group  amount_land  amount_water   latitude  longitude\n",
       "0         10010201001    4254524.0         23431  32.465829 -86.489614\n",
       "1         10010201002    5568295.0             0  32.485849 -86.489690\n",
       "2         10010202001    2058380.0             0  32.480082 -86.474974\n",
       "3         10010202002    1283506.0          5968  32.464435 -86.469766\n",
       "4         10010203001    3866515.0          9054  32.480175 -86.460793"
      ]
     },
     "execution_count": 137,
     "metadata": {},
     "output_type": "execute_result"
    }
   ],
   "source": [
    "d = pd.read_csv(censuspath + 'metadata/cbg_geographic_data.csv')\n",
    "d.head()"
   ]
  },
  {
   "cell_type": "code",
   "execution_count": 125,
   "metadata": {
    "ExecuteTime": {
     "end_time": "2020-05-22T23:28:54.344649Z",
     "start_time": "2020-05-22T23:28:54.328730Z"
    }
   },
   "outputs": [
    {
     "data": {
      "text/html": [
       "<div>\n",
       "<style scoped>\n",
       "    .dataframe tbody tr th:only-of-type {\n",
       "        vertical-align: middle;\n",
       "    }\n",
       "\n",
       "    .dataframe tbody tr th {\n",
       "        vertical-align: top;\n",
       "    }\n",
       "\n",
       "    .dataframe thead th {\n",
       "        text-align: right;\n",
       "    }\n",
       "</style>\n",
       "<table border=\"1\" class=\"dataframe\">\n",
       "  <thead>\n",
       "    <tr style=\"text-align: right;\">\n",
       "      <th></th>\n",
       "      <th>StateFIPS</th>\n",
       "      <th>CountyFIPS</th>\n",
       "      <th>TractCode</th>\n",
       "      <th>BlockGroup</th>\n",
       "      <th>CensusBlockGroup</th>\n",
       "      <th>State</th>\n",
       "      <th>County</th>\n",
       "      <th>ClassCode</th>\n",
       "      <th>geometry</th>\n",
       "    </tr>\n",
       "  </thead>\n",
       "  <tbody>\n",
       "    <tr>\n",
       "      <th>0</th>\n",
       "      <td>01</td>\n",
       "      <td>081</td>\n",
       "      <td>041600</td>\n",
       "      <td>1</td>\n",
       "      <td>010810416001</td>\n",
       "      <td>AL</td>\n",
       "      <td>Lee County</td>\n",
       "      <td>H1</td>\n",
       "      <td>MULTIPOLYGON (((-85.37282 32.63424, -85.37275 ...</td>\n",
       "    </tr>\n",
       "    <tr>\n",
       "      <th>1</th>\n",
       "      <td>01</td>\n",
       "      <td>081</td>\n",
       "      <td>041600</td>\n",
       "      <td>2</td>\n",
       "      <td>010810416002</td>\n",
       "      <td>AL</td>\n",
       "      <td>Lee County</td>\n",
       "      <td>H1</td>\n",
       "      <td>MULTIPOLYGON (((-85.38346 32.64838, -85.38301 ...</td>\n",
       "    </tr>\n",
       "    <tr>\n",
       "      <th>2</th>\n",
       "      <td>01</td>\n",
       "      <td>081</td>\n",
       "      <td>041700</td>\n",
       "      <td>4</td>\n",
       "      <td>010810417004</td>\n",
       "      <td>AL</td>\n",
       "      <td>Lee County</td>\n",
       "      <td>H1</td>\n",
       "      <td>MULTIPOLYGON (((-85.37139 32.60139, -85.37138 ...</td>\n",
       "    </tr>\n",
       "    <tr>\n",
       "      <th>3</th>\n",
       "      <td>01</td>\n",
       "      <td>073</td>\n",
       "      <td>011107</td>\n",
       "      <td>4</td>\n",
       "      <td>010730111074</td>\n",
       "      <td>AL</td>\n",
       "      <td>Jefferson County</td>\n",
       "      <td>H1</td>\n",
       "      <td>MULTIPOLYGON (((-86.64797 33.59205, -86.64771 ...</td>\n",
       "    </tr>\n",
       "    <tr>\n",
       "      <th>4</th>\n",
       "      <td>01</td>\n",
       "      <td>073</td>\n",
       "      <td>011108</td>\n",
       "      <td>4</td>\n",
       "      <td>010730111084</td>\n",
       "      <td>AL</td>\n",
       "      <td>Jefferson County</td>\n",
       "      <td>H1</td>\n",
       "      <td>MULTIPOLYGON (((-86.65206 33.59869, -86.65204 ...</td>\n",
       "    </tr>\n",
       "  </tbody>\n",
       "</table>\n",
       "</div>"
      ],
      "text/plain": [
       "  StateFIPS CountyFIPS TractCode BlockGroup CensusBlockGroup State  \\\n",
       "0        01        081    041600          1     010810416001    AL   \n",
       "1        01        081    041600          2     010810416002    AL   \n",
       "2        01        081    041700          4     010810417004    AL   \n",
       "3        01        073    011107          4     010730111074    AL   \n",
       "4        01        073    011108          4     010730111084    AL   \n",
       "\n",
       "             County ClassCode  \\\n",
       "0        Lee County        H1   \n",
       "1        Lee County        H1   \n",
       "2        Lee County        H1   \n",
       "3  Jefferson County        H1   \n",
       "4  Jefferson County        H1   \n",
       "\n",
       "                                            geometry  \n",
       "0  MULTIPOLYGON (((-85.37282 32.63424, -85.37275 ...  \n",
       "1  MULTIPOLYGON (((-85.38346 32.64838, -85.38301 ...  \n",
       "2  MULTIPOLYGON (((-85.37139 32.60139, -85.37138 ...  \n",
       "3  MULTIPOLYGON (((-86.64797 33.59205, -86.64771 ...  \n",
       "4  MULTIPOLYGON (((-86.65206 33.59869, -86.65204 ...  "
      ]
     },
     "execution_count": 125,
     "metadata": {},
     "output_type": "execute_result"
    }
   ],
   "source": [
    "if 1==0:\n",
    "    d = geopandas.read_file(censuspath + 'geometry/cbg.geojson', engine = 'GEOJSON')\n",
    "    d.head()"
   ]
  },
  {
   "cell_type": "code",
   "execution_count": 133,
   "metadata": {
    "ExecuteTime": {
     "end_time": "2020-05-22T23:41:47.303902Z",
     "start_time": "2020-05-22T23:41:47.300879Z"
    }
   },
   "outputs": [],
   "source": [
    "if 1==0: # Save smaller file\n",
    "    tolerance = .01/69 # 1 degree is about 69 miles at equator\n",
    "    d.geometry = d.geometry.simplify(tolerance, preserve_topology=True)\n",
    "    fpath = '../../../Data/US/working_datasets/'\n",
    "    d.to_file(fpath+'cbg_reduce_2019.geojson', driver='GeoJSON')"
   ]
  },
  {
   "cell_type": "code",
   "execution_count": null,
   "metadata": {
    "ExecuteTime": {
     "end_time": "2020-05-22T23:37:50.864760Z",
     "start_time": "2020-05-22T23:37:50.859776Z"
    }
   },
   "outputs": [],
   "source": []
  },
  {
   "cell_type": "code",
   "execution_count": null,
   "metadata": {},
   "outputs": [],
   "source": []
  }
 ],
 "metadata": {
  "hide_input": false,
  "kernelspec": {
   "display_name": "Python 3",
   "language": "python",
   "name": "python3"
  },
  "language_info": {
   "codemirror_mode": {
    "name": "ipython",
    "version": 3
   },
   "file_extension": ".py",
   "mimetype": "text/x-python",
   "name": "python",
   "nbconvert_exporter": "python",
   "pygments_lexer": "ipython3",
   "version": "3.7.7"
  },
  "latex_envs": {
   "LaTeX_envs_menu_present": true,
   "autoclose": true,
   "autocomplete": false,
   "bibliofile": "biblio.bib",
   "cite_by": "apalike",
   "current_citInitial": 1,
   "eqLabelWithNumbers": true,
   "eqNumInitial": 1,
   "hotkeys": {
    "equation": "Ctrl-E",
    "itemize": "Ctrl-I"
   },
   "labels_anchors": false,
   "latex_user_defs": false,
   "report_style_numbering": false,
   "user_envs_cfg": false
  }
 },
 "nbformat": 4,
 "nbformat_minor": 4
}
